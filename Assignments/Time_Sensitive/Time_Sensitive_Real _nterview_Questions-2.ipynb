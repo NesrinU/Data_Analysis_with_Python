{
 "cells": [
  {
   "cell_type": "code",
   "execution_count": 1,
   "id": "31edd9f4",
   "metadata": {},
   "outputs": [],
   "source": [
    "import numpy as np\n",
    "import pandas as pd\n",
    "import seaborn as sns\n",
    "import matplotlib.pyplot as plt\n",
    "from pandas.plotting import register_matplotlib_converters\n",
    "from pylab import rcParams\n",
    "sns.set_style(\"darkgrid\")\n",
    "\n",
    "import warnings\n",
    "warnings.filterwarnings(\"ignore\")"
   ]
  },
  {
   "cell_type": "code",
   "execution_count": 2,
   "id": "040832c9",
   "metadata": {},
   "outputs": [
    {
     "data": {
      "text/html": [
       "<div>\n",
       "<style scoped>\n",
       "    .dataframe tbody tr th:only-of-type {\n",
       "        vertical-align: middle;\n",
       "    }\n",
       "\n",
       "    .dataframe tbody tr th {\n",
       "        vertical-align: top;\n",
       "    }\n",
       "\n",
       "    .dataframe thead th {\n",
       "        text-align: right;\n",
       "    }\n",
       "</style>\n",
       "<table border=\"1\" class=\"dataframe\">\n",
       "  <thead>\n",
       "    <tr style=\"text-align: right;\">\n",
       "      <th></th>\n",
       "      <th>buyer_id</th>\n",
       "      <th>buyer_country</th>\n",
       "      <th>seller_id</th>\n",
       "      <th>seller_country</th>\n",
       "      <th>product_code</th>\n",
       "      <th>category</th>\n",
       "      <th>brand</th>\n",
       "      <th>currency</th>\n",
       "      <th>price</th>\n",
       "      <th>date</th>\n",
       "    </tr>\n",
       "  </thead>\n",
       "  <tbody>\n",
       "    <tr>\n",
       "      <th>0</th>\n",
       "      <td>qzpjsi9t0o</td>\n",
       "      <td>GB</td>\n",
       "      <td>6oufpaot</td>\n",
       "      <td>GB</td>\n",
       "      <td>ydecnydr6obf</td>\n",
       "      <td>Dresses</td>\n",
       "      <td>NaN</td>\n",
       "      <td>GBP</td>\n",
       "      <td>19.11</td>\n",
       "      <td>2020-08-03</td>\n",
       "    </tr>\n",
       "    <tr>\n",
       "      <th>1</th>\n",
       "      <td>o79pns1qwo</td>\n",
       "      <td>GB</td>\n",
       "      <td>50xki2yg</td>\n",
       "      <td>GB</td>\n",
       "      <td>38chj507o6h2</td>\n",
       "      <td>Outerwear</td>\n",
       "      <td>Adidas Originals</td>\n",
       "      <td>GBP</td>\n",
       "      <td>15.92</td>\n",
       "      <td>2020-08-09</td>\n",
       "    </tr>\n",
       "    <tr>\n",
       "      <th>2</th>\n",
       "      <td>sjgbjdkhqx</td>\n",
       "      <td>GB</td>\n",
       "      <td>50xki2yg</td>\n",
       "      <td>GB</td>\n",
       "      <td>i9ynyxj5tdp8</td>\n",
       "      <td>Tops - Mens</td>\n",
       "      <td>NaN</td>\n",
       "      <td>GBP</td>\n",
       "      <td>6.37</td>\n",
       "      <td>2020-08-07</td>\n",
       "    </tr>\n",
       "    <tr>\n",
       "      <th>3</th>\n",
       "      <td>o79pns1qwo</td>\n",
       "      <td>GB</td>\n",
       "      <td>s0p322hh</td>\n",
       "      <td>GB</td>\n",
       "      <td>t50xe7moye8v</td>\n",
       "      <td>Tops - Mens</td>\n",
       "      <td>Berghaus</td>\n",
       "      <td>GBP</td>\n",
       "      <td>25.27</td>\n",
       "      <td>2020-08-09</td>\n",
       "    </tr>\n",
       "    <tr>\n",
       "      <th>4</th>\n",
       "      <td>o79pns1qwo</td>\n",
       "      <td>GB</td>\n",
       "      <td>dpkx192v</td>\n",
       "      <td>GB</td>\n",
       "      <td>hp4r9bjq68af</td>\n",
       "      <td>Bottoms - Womens</td>\n",
       "      <td>NaN</td>\n",
       "      <td>GBP</td>\n",
       "      <td>8.90</td>\n",
       "      <td>2020-08-09</td>\n",
       "    </tr>\n",
       "  </tbody>\n",
       "</table>\n",
       "</div>"
      ],
      "text/plain": [
       "     buyer_id buyer_country seller_id seller_country  product_code  \\\n",
       "0  qzpjsi9t0o            GB  6oufpaot             GB  ydecnydr6obf   \n",
       "1  o79pns1qwo            GB  50xki2yg             GB  38chj507o6h2   \n",
       "2  sjgbjdkhqx            GB  50xki2yg             GB  i9ynyxj5tdp8   \n",
       "3  o79pns1qwo            GB  s0p322hh             GB  t50xe7moye8v   \n",
       "4  o79pns1qwo            GB  dpkx192v             GB  hp4r9bjq68af   \n",
       "\n",
       "           category             brand currency  price        date  \n",
       "0           Dresses               NaN      GBP  19.11  2020-08-03  \n",
       "1         Outerwear  Adidas Originals      GBP  15.92  2020-08-09  \n",
       "2       Tops - Mens               NaN      GBP   6.37  2020-08-07  \n",
       "3       Tops - Mens          Berghaus      GBP  25.27  2020-08-09  \n",
       "4  Bottoms - Womens               NaN      GBP   8.90  2020-08-09  "
      ]
     },
     "execution_count": 2,
     "metadata": {},
     "output_type": "execute_result"
    }
   ],
   "source": [
    "df=pd.read_csv('sales_082020.csv')\n",
    "df.head()"
   ]
  },
  {
   "cell_type": "code",
   "execution_count": 15,
   "id": "5a7b4a9c",
   "metadata": {},
   "outputs": [
    {
     "name": "stdout",
     "output_type": "stream",
     "text": [
      "<class 'pandas.core.frame.DataFrame'>\n",
      "RangeIndex: 237671 entries, 0 to 237670\n",
      "Data columns (total 10 columns):\n",
      " #   Column          Non-Null Count   Dtype  \n",
      "---  ------          --------------   -----  \n",
      " 0   buyer_id        237671 non-null  object \n",
      " 1   buyer_country   237671 non-null  object \n",
      " 2   seller_id       237671 non-null  object \n",
      " 3   seller_country  237671 non-null  object \n",
      " 4   product_code    237671 non-null  object \n",
      " 5   category        237655 non-null  object \n",
      " 6   brand           119330 non-null  object \n",
      " 7   currency        237671 non-null  object \n",
      " 8   price           237671 non-null  float64\n",
      " 9   date            237671 non-null  object \n",
      "dtypes: float64(1), object(9)\n",
      "memory usage: 18.1+ MB\n"
     ]
    }
   ],
   "source": [
    "df.info()"
   ]
  },
  {
   "cell_type": "code",
   "execution_count": 3,
   "id": "d4acbd37",
   "metadata": {},
   "outputs": [
    {
     "data": {
      "text/html": [
       "<div>\n",
       "<style scoped>\n",
       "    .dataframe tbody tr th:only-of-type {\n",
       "        vertical-align: middle;\n",
       "    }\n",
       "\n",
       "    .dataframe tbody tr th {\n",
       "        vertical-align: top;\n",
       "    }\n",
       "\n",
       "    .dataframe thead th {\n",
       "        text-align: right;\n",
       "    }\n",
       "</style>\n",
       "<table border=\"1\" class=\"dataframe\">\n",
       "  <thead>\n",
       "    <tr style=\"text-align: right;\">\n",
       "      <th></th>\n",
       "      <th>currency</th>\n",
       "      <th>date</th>\n",
       "      <th>rate</th>\n",
       "    </tr>\n",
       "  </thead>\n",
       "  <tbody>\n",
       "    <tr>\n",
       "      <th>0</th>\n",
       "      <td>EUR</td>\n",
       "      <td>8/1/2020</td>\n",
       "      <td>1.0000</td>\n",
       "    </tr>\n",
       "    <tr>\n",
       "      <th>1</th>\n",
       "      <td>EUR</td>\n",
       "      <td>8/2/2020</td>\n",
       "      <td>1.0000</td>\n",
       "    </tr>\n",
       "    <tr>\n",
       "      <th>2</th>\n",
       "      <td>EUR</td>\n",
       "      <td>8/3/2020</td>\n",
       "      <td>1.0000</td>\n",
       "    </tr>\n",
       "    <tr>\n",
       "      <th>3</th>\n",
       "      <td>EUR</td>\n",
       "      <td>8/4/2020</td>\n",
       "      <td>1.0000</td>\n",
       "    </tr>\n",
       "    <tr>\n",
       "      <th>4</th>\n",
       "      <td>EUR</td>\n",
       "      <td>8/5/2020</td>\n",
       "      <td>1.0000</td>\n",
       "    </tr>\n",
       "    <tr>\n",
       "      <th>...</th>\n",
       "      <td>...</td>\n",
       "      <td>...</td>\n",
       "      <td>...</td>\n",
       "    </tr>\n",
       "    <tr>\n",
       "      <th>215</th>\n",
       "      <td>BRL</td>\n",
       "      <td>8/6/2020</td>\n",
       "      <td>6.3324</td>\n",
       "    </tr>\n",
       "    <tr>\n",
       "      <th>216</th>\n",
       "      <td>BRL</td>\n",
       "      <td>8/7/2020</td>\n",
       "      <td>6.4111</td>\n",
       "    </tr>\n",
       "    <tr>\n",
       "      <th>217</th>\n",
       "      <td>BRL</td>\n",
       "      <td>8/8/2020</td>\n",
       "      <td>6.4111</td>\n",
       "    </tr>\n",
       "    <tr>\n",
       "      <th>218</th>\n",
       "      <td>BRL</td>\n",
       "      <td>8/9/2020</td>\n",
       "      <td>6.4111</td>\n",
       "    </tr>\n",
       "    <tr>\n",
       "      <th>219</th>\n",
       "      <td>BRL</td>\n",
       "      <td>8/10/2020</td>\n",
       "      <td>6.4351</td>\n",
       "    </tr>\n",
       "  </tbody>\n",
       "</table>\n",
       "<p>220 rows × 3 columns</p>\n",
       "</div>"
      ],
      "text/plain": [
       "    currency       date    rate\n",
       "0        EUR   8/1/2020  1.0000\n",
       "1        EUR   8/2/2020  1.0000\n",
       "2        EUR   8/3/2020  1.0000\n",
       "3        EUR   8/4/2020  1.0000\n",
       "4        EUR   8/5/2020  1.0000\n",
       "..       ...        ...     ...\n",
       "215      BRL   8/6/2020  6.3324\n",
       "216      BRL   8/7/2020  6.4111\n",
       "217      BRL   8/8/2020  6.4111\n",
       "218      BRL   8/9/2020  6.4111\n",
       "219      BRL  8/10/2020  6.4351\n",
       "\n",
       "[220 rows x 3 columns]"
      ]
     },
     "execution_count": 3,
     "metadata": {},
     "output_type": "execute_result"
    }
   ],
   "source": [
    "df0= pd.read_csv('currency_rates_082020_EUR.csv')\n",
    "df0"
   ]
  },
  {
   "cell_type": "code",
   "execution_count": 8,
   "id": "072faf74",
   "metadata": {},
   "outputs": [],
   "source": [
    "dfs= df.copy()\n",
    "dfc= df0.copy()"
   ]
  },
  {
   "cell_type": "code",
   "execution_count": 9,
   "id": "06a1de1e",
   "metadata": {},
   "outputs": [],
   "source": [
    "dfs.date = pd.to_datetime(dfs.date)"
   ]
  },
  {
   "cell_type": "code",
   "execution_count": 10,
   "id": "7a162800",
   "metadata": {},
   "outputs": [
    {
     "name": "stdout",
     "output_type": "stream",
     "text": [
      "<class 'pandas.core.frame.DataFrame'>\n",
      "RangeIndex: 237671 entries, 0 to 237670\n",
      "Data columns (total 10 columns):\n",
      " #   Column          Non-Null Count   Dtype         \n",
      "---  ------          --------------   -----         \n",
      " 0   buyer_id        237671 non-null  object        \n",
      " 1   buyer_country   237671 non-null  object        \n",
      " 2   seller_id       237671 non-null  object        \n",
      " 3   seller_country  237671 non-null  object        \n",
      " 4   product_code    237671 non-null  object        \n",
      " 5   category        237655 non-null  object        \n",
      " 6   brand           119330 non-null  object        \n",
      " 7   currency        237671 non-null  object        \n",
      " 8   price           237671 non-null  float64       \n",
      " 9   date            237671 non-null  datetime64[ns]\n",
      "dtypes: datetime64[ns](1), float64(1), object(8)\n",
      "memory usage: 18.1+ MB\n"
     ]
    }
   ],
   "source": [
    "dfs.info()"
   ]
  },
  {
   "cell_type": "code",
   "execution_count": 11,
   "id": "7a9b81c8",
   "metadata": {},
   "outputs": [],
   "source": [
    "dfc.date= pd.to_datetime(dfc.date)"
   ]
  },
  {
   "cell_type": "code",
   "execution_count": 12,
   "id": "166b165f",
   "metadata": {},
   "outputs": [
    {
     "name": "stdout",
     "output_type": "stream",
     "text": [
      "<class 'pandas.core.frame.DataFrame'>\n",
      "RangeIndex: 220 entries, 0 to 219\n",
      "Data columns (total 3 columns):\n",
      " #   Column    Non-Null Count  Dtype         \n",
      "---  ------    --------------  -----         \n",
      " 0   currency  220 non-null    object        \n",
      " 1   date      220 non-null    datetime64[ns]\n",
      " 2   rate      220 non-null    float64       \n",
      "dtypes: datetime64[ns](1), float64(1), object(1)\n",
      "memory usage: 5.3+ KB\n"
     ]
    }
   ],
   "source": [
    "dfc.info()"
   ]
  },
  {
   "cell_type": "code",
   "execution_count": 13,
   "id": "e96b7730",
   "metadata": {},
   "outputs": [
    {
     "data": {
      "text/html": [
       "<div>\n",
       "<style scoped>\n",
       "    .dataframe tbody tr th:only-of-type {\n",
       "        vertical-align: middle;\n",
       "    }\n",
       "\n",
       "    .dataframe tbody tr th {\n",
       "        vertical-align: top;\n",
       "    }\n",
       "\n",
       "    .dataframe thead th {\n",
       "        text-align: right;\n",
       "    }\n",
       "</style>\n",
       "<table border=\"1\" class=\"dataframe\">\n",
       "  <thead>\n",
       "    <tr style=\"text-align: right;\">\n",
       "      <th></th>\n",
       "      <th>buyer_id</th>\n",
       "      <th>buyer_country</th>\n",
       "      <th>seller_id</th>\n",
       "      <th>seller_country</th>\n",
       "      <th>product_code</th>\n",
       "      <th>category</th>\n",
       "      <th>brand</th>\n",
       "      <th>currency</th>\n",
       "      <th>price</th>\n",
       "      <th>date</th>\n",
       "      <th>rate</th>\n",
       "    </tr>\n",
       "  </thead>\n",
       "  <tbody>\n",
       "    <tr>\n",
       "      <th>0</th>\n",
       "      <td>qzpjsi9t0o</td>\n",
       "      <td>GB</td>\n",
       "      <td>6oufpaot</td>\n",
       "      <td>GB</td>\n",
       "      <td>ydecnydr6obf</td>\n",
       "      <td>Dresses</td>\n",
       "      <td>NaN</td>\n",
       "      <td>GBP</td>\n",
       "      <td>19.11</td>\n",
       "      <td>2020-08-03</td>\n",
       "      <td>0.89935</td>\n",
       "    </tr>\n",
       "    <tr>\n",
       "      <th>1</th>\n",
       "      <td>rd209r8c7c</td>\n",
       "      <td>GB</td>\n",
       "      <td>9p2ansc9</td>\n",
       "      <td>GB</td>\n",
       "      <td>wpxxf59cq7pc</td>\n",
       "      <td>Outerwear - Mens</td>\n",
       "      <td>Adidas Originals</td>\n",
       "      <td>GBP</td>\n",
       "      <td>24.91</td>\n",
       "      <td>2020-08-03</td>\n",
       "      <td>0.89935</td>\n",
       "    </tr>\n",
       "    <tr>\n",
       "      <th>2</th>\n",
       "      <td>pqbcrl8azx</td>\n",
       "      <td>GB</td>\n",
       "      <td>r9zmzem8</td>\n",
       "      <td>GB</td>\n",
       "      <td>ua9mmn86wsqy</td>\n",
       "      <td>Tops - Womens</td>\n",
       "      <td>NaN</td>\n",
       "      <td>GBP</td>\n",
       "      <td>19.31</td>\n",
       "      <td>2020-08-03</td>\n",
       "      <td>0.89935</td>\n",
       "    </tr>\n",
       "    <tr>\n",
       "      <th>3</th>\n",
       "      <td>j5en1rwmxp</td>\n",
       "      <td>GB</td>\n",
       "      <td>3o2nz88r</td>\n",
       "      <td>GB</td>\n",
       "      <td>tduo2uy8iszl</td>\n",
       "      <td>Bottoms - Womens</td>\n",
       "      <td>Urban Outfitters</td>\n",
       "      <td>GBP</td>\n",
       "      <td>16.98</td>\n",
       "      <td>2020-08-03</td>\n",
       "      <td>0.89935</td>\n",
       "    </tr>\n",
       "    <tr>\n",
       "      <th>4</th>\n",
       "      <td>kjdezxeh1l</td>\n",
       "      <td>GB</td>\n",
       "      <td>7g56ublf</td>\n",
       "      <td>GB</td>\n",
       "      <td>39o00tcu89zq</td>\n",
       "      <td>Other</td>\n",
       "      <td>NaN</td>\n",
       "      <td>GBP</td>\n",
       "      <td>2.85</td>\n",
       "      <td>2020-08-03</td>\n",
       "      <td>0.89935</td>\n",
       "    </tr>\n",
       "  </tbody>\n",
       "</table>\n",
       "</div>"
      ],
      "text/plain": [
       "     buyer_id buyer_country seller_id seller_country  product_code  \\\n",
       "0  qzpjsi9t0o            GB  6oufpaot             GB  ydecnydr6obf   \n",
       "1  rd209r8c7c            GB  9p2ansc9             GB  wpxxf59cq7pc   \n",
       "2  pqbcrl8azx            GB  r9zmzem8             GB  ua9mmn86wsqy   \n",
       "3  j5en1rwmxp            GB  3o2nz88r             GB  tduo2uy8iszl   \n",
       "4  kjdezxeh1l            GB  7g56ublf             GB  39o00tcu89zq   \n",
       "\n",
       "           category             brand currency  price       date     rate  \n",
       "0           Dresses               NaN      GBP  19.11 2020-08-03  0.89935  \n",
       "1  Outerwear - Mens  Adidas Originals      GBP  24.91 2020-08-03  0.89935  \n",
       "2     Tops - Womens               NaN      GBP  19.31 2020-08-03  0.89935  \n",
       "3  Bottoms - Womens  Urban Outfitters      GBP  16.98 2020-08-03  0.89935  \n",
       "4             Other               NaN      GBP   2.85 2020-08-03  0.89935  "
      ]
     },
     "execution_count": 13,
     "metadata": {},
     "output_type": "execute_result"
    }
   ],
   "source": [
    "df_new = pd.merge(dfs, dfc, how= 'inner', on= ['currency', 'date'])\n",
    "df_new.head()"
   ]
  },
  {
   "cell_type": "code",
   "execution_count": 14,
   "id": "187c577e",
   "metadata": {},
   "outputs": [
    {
     "name": "stdout",
     "output_type": "stream",
     "text": [
      "<class 'pandas.core.frame.DataFrame'>\n",
      "Int64Index: 237671 entries, 0 to 237670\n",
      "Data columns (total 11 columns):\n",
      " #   Column          Non-Null Count   Dtype         \n",
      "---  ------          --------------   -----         \n",
      " 0   buyer_id        237671 non-null  object        \n",
      " 1   buyer_country   237671 non-null  object        \n",
      " 2   seller_id       237671 non-null  object        \n",
      " 3   seller_country  237671 non-null  object        \n",
      " 4   product_code    237671 non-null  object        \n",
      " 5   category        237655 non-null  object        \n",
      " 6   brand           119330 non-null  object        \n",
      " 7   currency        237671 non-null  object        \n",
      " 8   price           237671 non-null  float64       \n",
      " 9   date            237671 non-null  datetime64[ns]\n",
      " 10  rate            237671 non-null  float64       \n",
      "dtypes: datetime64[ns](1), float64(2), object(8)\n",
      "memory usage: 21.8+ MB\n"
     ]
    }
   ],
   "source": [
    "df_new.info()"
   ]
  },
  {
   "cell_type": "code",
   "execution_count": 16,
   "id": "fabe7a1e",
   "metadata": {},
   "outputs": [
    {
     "data": {
      "text/html": [
       "<div>\n",
       "<style scoped>\n",
       "    .dataframe tbody tr th:only-of-type {\n",
       "        vertical-align: middle;\n",
       "    }\n",
       "\n",
       "    .dataframe tbody tr th {\n",
       "        vertical-align: top;\n",
       "    }\n",
       "\n",
       "    .dataframe thead th {\n",
       "        text-align: right;\n",
       "    }\n",
       "</style>\n",
       "<table border=\"1\" class=\"dataframe\">\n",
       "  <thead>\n",
       "    <tr style=\"text-align: right;\">\n",
       "      <th></th>\n",
       "      <th>buyer_id</th>\n",
       "      <th>buyer_country</th>\n",
       "      <th>seller_id</th>\n",
       "      <th>seller_country</th>\n",
       "      <th>product_code</th>\n",
       "      <th>category</th>\n",
       "      <th>brand</th>\n",
       "      <th>currency</th>\n",
       "      <th>price</th>\n",
       "      <th>date</th>\n",
       "      <th>rate</th>\n",
       "      <th>total</th>\n",
       "    </tr>\n",
       "  </thead>\n",
       "  <tbody>\n",
       "    <tr>\n",
       "      <th>0</th>\n",
       "      <td>qzpjsi9t0o</td>\n",
       "      <td>GB</td>\n",
       "      <td>6oufpaot</td>\n",
       "      <td>GB</td>\n",
       "      <td>ydecnydr6obf</td>\n",
       "      <td>Dresses</td>\n",
       "      <td>NaN</td>\n",
       "      <td>GBP</td>\n",
       "      <td>19.11</td>\n",
       "      <td>2020-08-03</td>\n",
       "      <td>0.89935</td>\n",
       "      <td>21.248680</td>\n",
       "    </tr>\n",
       "    <tr>\n",
       "      <th>1</th>\n",
       "      <td>rd209r8c7c</td>\n",
       "      <td>GB</td>\n",
       "      <td>9p2ansc9</td>\n",
       "      <td>GB</td>\n",
       "      <td>wpxxf59cq7pc</td>\n",
       "      <td>Outerwear - Mens</td>\n",
       "      <td>Adidas Originals</td>\n",
       "      <td>GBP</td>\n",
       "      <td>24.91</td>\n",
       "      <td>2020-08-03</td>\n",
       "      <td>0.89935</td>\n",
       "      <td>27.697782</td>\n",
       "    </tr>\n",
       "    <tr>\n",
       "      <th>2</th>\n",
       "      <td>pqbcrl8azx</td>\n",
       "      <td>GB</td>\n",
       "      <td>r9zmzem8</td>\n",
       "      <td>GB</td>\n",
       "      <td>ua9mmn86wsqy</td>\n",
       "      <td>Tops - Womens</td>\n",
       "      <td>NaN</td>\n",
       "      <td>GBP</td>\n",
       "      <td>19.31</td>\n",
       "      <td>2020-08-03</td>\n",
       "      <td>0.89935</td>\n",
       "      <td>21.471062</td>\n",
       "    </tr>\n",
       "    <tr>\n",
       "      <th>3</th>\n",
       "      <td>j5en1rwmxp</td>\n",
       "      <td>GB</td>\n",
       "      <td>3o2nz88r</td>\n",
       "      <td>GB</td>\n",
       "      <td>tduo2uy8iszl</td>\n",
       "      <td>Bottoms - Womens</td>\n",
       "      <td>Urban Outfitters</td>\n",
       "      <td>GBP</td>\n",
       "      <td>16.98</td>\n",
       "      <td>2020-08-03</td>\n",
       "      <td>0.89935</td>\n",
       "      <td>18.880302</td>\n",
       "    </tr>\n",
       "    <tr>\n",
       "      <th>4</th>\n",
       "      <td>kjdezxeh1l</td>\n",
       "      <td>GB</td>\n",
       "      <td>7g56ublf</td>\n",
       "      <td>GB</td>\n",
       "      <td>39o00tcu89zq</td>\n",
       "      <td>Other</td>\n",
       "      <td>NaN</td>\n",
       "      <td>GBP</td>\n",
       "      <td>2.85</td>\n",
       "      <td>2020-08-03</td>\n",
       "      <td>0.89935</td>\n",
       "      <td>3.168955</td>\n",
       "    </tr>\n",
       "  </tbody>\n",
       "</table>\n",
       "</div>"
      ],
      "text/plain": [
       "     buyer_id buyer_country seller_id seller_country  product_code  \\\n",
       "0  qzpjsi9t0o            GB  6oufpaot             GB  ydecnydr6obf   \n",
       "1  rd209r8c7c            GB  9p2ansc9             GB  wpxxf59cq7pc   \n",
       "2  pqbcrl8azx            GB  r9zmzem8             GB  ua9mmn86wsqy   \n",
       "3  j5en1rwmxp            GB  3o2nz88r             GB  tduo2uy8iszl   \n",
       "4  kjdezxeh1l            GB  7g56ublf             GB  39o00tcu89zq   \n",
       "\n",
       "           category             brand currency  price       date     rate  \\\n",
       "0           Dresses               NaN      GBP  19.11 2020-08-03  0.89935   \n",
       "1  Outerwear - Mens  Adidas Originals      GBP  24.91 2020-08-03  0.89935   \n",
       "2     Tops - Womens               NaN      GBP  19.31 2020-08-03  0.89935   \n",
       "3  Bottoms - Womens  Urban Outfitters      GBP  16.98 2020-08-03  0.89935   \n",
       "4             Other               NaN      GBP   2.85 2020-08-03  0.89935   \n",
       "\n",
       "       total  \n",
       "0  21.248680  \n",
       "1  27.697782  \n",
       "2  21.471062  \n",
       "3  18.880302  \n",
       "4   3.168955  "
      ]
     },
     "execution_count": 16,
     "metadata": {},
     "output_type": "execute_result"
    }
   ],
   "source": [
    "df_new['total']= df_new.price / df_new.rate\n",
    "df_new.head()"
   ]
  },
  {
   "cell_type": "code",
   "execution_count": 18,
   "id": "b781f7e7",
   "metadata": {},
   "outputs": [
    {
     "name": "stdout",
     "output_type": "stream",
     "text": [
      "<class 'pandas.core.frame.DataFrame'>\n",
      "Int64Index: 237671 entries, 0 to 237670\n",
      "Data columns (total 12 columns):\n",
      " #   Column          Non-Null Count   Dtype         \n",
      "---  ------          --------------   -----         \n",
      " 0   buyer_id        237671 non-null  object        \n",
      " 1   buyer_country   237671 non-null  object        \n",
      " 2   seller_id       237671 non-null  object        \n",
      " 3   seller_country  237671 non-null  object        \n",
      " 4   product_code    237671 non-null  object        \n",
      " 5   category        237655 non-null  object        \n",
      " 6   brand           119330 non-null  object        \n",
      " 7   currency        237671 non-null  object        \n",
      " 8   price           237671 non-null  float64       \n",
      " 9   date            237671 non-null  datetime64[ns]\n",
      " 10  rate            237671 non-null  float64       \n",
      " 11  total           237671 non-null  float64       \n",
      "dtypes: datetime64[ns](1), float64(3), object(8)\n",
      "memory usage: 23.6+ MB\n"
     ]
    }
   ],
   "source": [
    "df_new.info()"
   ]
  },
  {
   "cell_type": "markdown",
   "id": "208d90d9",
   "metadata": {},
   "source": [
    "##  1. Which country made the highest percentage of international purchases? "
   ]
  },
  {
   "cell_type": "code",
   "execution_count": 21,
   "id": "be4b5214",
   "metadata": {},
   "outputs": [
    {
     "data": {
      "text/plain": [
       "6471511.0"
      ]
     },
     "execution_count": 21,
     "metadata": {},
     "output_type": "execute_result"
    }
   ],
   "source": [
    "df_new['total'].sum().round()"
   ]
  },
  {
   "cell_type": "code",
   "execution_count": 25,
   "id": "e5ec3a3b",
   "metadata": {},
   "outputs": [
    {
     "data": {
      "text/plain": [
       "buyer_country\n",
       "AU      219762.0\n",
       "CA       66565.0\n",
       "DE       25495.0\n",
       "FR       18359.0\n",
       "GB     3578790.0\n",
       "IE      115571.0\n",
       "IT      164237.0\n",
       "RoW     154262.0\n",
       "US     2128470.0\n",
       "Name: total, dtype: float64"
      ]
     },
     "execution_count": 25,
     "metadata": {},
     "output_type": "execute_result"
    }
   ],
   "source": [
    "df_new.groupby('buyer_country')['total'].sum().round()"
   ]
  },
  {
   "cell_type": "code",
   "execution_count": 107,
   "id": "dab71d0d",
   "metadata": {},
   "outputs": [
    {
     "data": {
      "text/plain": [
       "buyer_country\n",
       "AU      3.4\n",
       "CA      1.0\n",
       "DE      0.4\n",
       "FR      0.3\n",
       "GB     55.3\n",
       "IE      1.8\n",
       "IT      2.5\n",
       "RoW     2.4\n",
       "US     32.9\n",
       "Name: total, dtype: float64"
      ]
     },
     "execution_count": 107,
     "metadata": {},
     "output_type": "execute_result"
    }
   ],
   "source": [
    "df_new.groupby('buyer_country')['total'].sum().apply(lambda x : (x/6471511.0)*100).round(1)"
   ]
  },
  {
   "cell_type": "code",
   "execution_count": 124,
   "id": "3856cb92",
   "metadata": {},
   "outputs": [
    {
     "data": {
      "text/plain": [
       "buyer_country\n",
       "AU     0.033958\n",
       "CA     0.010286\n",
       "DE     0.003940\n",
       "FR     0.002837\n",
       "GB     0.553007\n",
       "IE     0.017858\n",
       "IT     0.025378\n",
       "RoW    0.023837\n",
       "US     0.328898\n",
       "Name: total, dtype: float64"
      ]
     },
     "execution_count": 124,
     "metadata": {},
     "output_type": "execute_result"
    }
   ],
   "source": [
    "df_new.groupby('buyer_country')['total'].sum()/df_new['total'].sum().round()"
   ]
  },
  {
   "cell_type": "code",
   "execution_count": 27,
   "id": "7224a601",
   "metadata": {},
   "outputs": [
    {
     "data": {
      "text/plain": [
       "seller_country\n",
       "AU      3.0\n",
       "CA      1.0\n",
       "DE      0.0\n",
       "FR      0.0\n",
       "GB     59.0\n",
       "IE      1.0\n",
       "IT      3.0\n",
       "RoW     1.0\n",
       "US     33.0\n",
       "Name: total, dtype: float64"
      ]
     },
     "execution_count": 27,
     "metadata": {},
     "output_type": "execute_result"
    }
   ],
   "source": [
    "df_new.groupby('seller_country')['total'].sum().apply(lambda x : (x/6471511.0)*100).round()"
   ]
  },
  {
   "cell_type": "markdown",
   "id": "133bdfd9",
   "metadata": {},
   "source": [
    "## 2. Which day has the highest value of purchases? "
   ]
  },
  {
   "cell_type": "code",
   "execution_count": 36,
   "id": "29e8754b",
   "metadata": {},
   "outputs": [
    {
     "data": {
      "text/plain": [
       "date\n",
       "2020-08-05     770518.0\n",
       "2020-08-06     858224.0\n",
       "2020-08-04     935129.0\n",
       "2020-08-09     946702.0\n",
       "2020-08-07     966149.0\n",
       "2020-08-08     989508.0\n",
       "2020-08-03    1005281.0\n",
       "Name: total, dtype: float64"
      ]
     },
     "execution_count": 36,
     "metadata": {},
     "output_type": "execute_result"
    }
   ],
   "source": [
    "df_new.groupby('date')['total'].sum().round().sort_values()"
   ]
  },
  {
   "cell_type": "code",
   "execution_count": 37,
   "id": "c9679c3f",
   "metadata": {},
   "outputs": [
    {
     "data": {
      "text/plain": [
       "date\n",
       "2020-08-05    1039.0\n",
       "2020-08-08    1141.0\n",
       "2020-08-09    1312.0\n",
       "2020-08-07    1644.0\n",
       "2020-08-06    2205.0\n",
       "2020-08-04    2330.0\n",
       "2020-08-03    3045.0\n",
       "Name: total, dtype: float64"
      ]
     },
     "execution_count": 37,
     "metadata": {},
     "output_type": "execute_result"
    }
   ],
   "source": [
    "df_new.groupby('date')['total'].max().round().sort_values()"
   ]
  },
  {
   "cell_type": "markdown",
   "id": "cfc89a96",
   "metadata": {},
   "source": [
    "## 3. Which category has 2,324 transactions on 7 August? "
   ]
  },
  {
   "cell_type": "code",
   "execution_count": 53,
   "id": "a9d87c12",
   "metadata": {},
   "outputs": [
    {
     "data": {
      "text/plain": [
       "category           category         \n",
       "Accessories        Accessories          3090\n",
       "Art                Art                   333\n",
       "Beauty             Beauty               1297\n",
       "Books & magazines  Books & magazines     154\n",
       "Bottoms - Mens     Bottoms - Mens        826\n",
       "Bottoms - Womens   Bottoms - Womens     4571\n",
       "Dresses            Dresses              3079\n",
       "Film               Film                   64\n",
       "Home               Home                  514\n",
       "Jewellery          Jewellery            2324\n",
       "Kids               Kids                  317\n",
       "Lingerie           Lingerie              788\n",
       "Music              Music                 336\n",
       "Other              Other                1014\n",
       "Outerwear          Outerwear             917\n",
       "Outerwear - Mens   Outerwear - Mens      552\n",
       "Shoes              Shoes                3292\n",
       "Sports equipment   Sports equipment       63\n",
       "Tech               Tech                  539\n",
       "Tops - Mens        Tops - Mens          4835\n",
       "Tops - Womens      Tops - Womens        6798\n",
       "Transportation     Transportation         16\n",
       "UNSPECIFIED        UNSPECIFIED             1\n",
       "Underwear          Underwear              24\n",
       "Name: category, dtype: int64"
      ]
     },
     "execution_count": 53,
     "metadata": {},
     "output_type": "execute_result"
    }
   ],
   "source": [
    "df_new[df_new.date== '2020-08-07'].groupby('category')['category'].value_counts()"
   ]
  },
  {
   "cell_type": "code",
   "execution_count": 54,
   "id": "9145ea87",
   "metadata": {},
   "outputs": [
    {
     "data": {
      "text/plain": [
       "2020-08-08    36541\n",
       "2020-08-03    36150\n",
       "2020-08-07    35745\n",
       "2020-08-09    34764\n",
       "2020-08-04    33525\n",
       "2020-08-06    32639\n",
       "2020-08-05    28307\n",
       "Name: date, dtype: int64"
      ]
     },
     "execution_count": 54,
     "metadata": {},
     "output_type": "execute_result"
    }
   ],
   "source": [
    "df_new.date.value_counts()"
   ]
  },
  {
   "cell_type": "markdown",
   "id": "3a35c34f",
   "metadata": {},
   "source": [
    "## 4. What percentage of global sales value on 4 August came from US sellers?"
   ]
  },
  {
   "cell_type": "code",
   "execution_count": 56,
   "id": "18f0b19a",
   "metadata": {},
   "outputs": [
    {
     "data": {
      "text/plain": [
       "seller_country\n",
       "AU      26224.0\n",
       "CA       6961.0\n",
       "DE       1486.0\n",
       "FR        511.0\n",
       "GB     544079.0\n",
       "IE      10062.0\n",
       "IT      27508.0\n",
       "RoW      7165.0\n",
       "US     311133.0\n",
       "Name: total, dtype: float64"
      ]
     },
     "execution_count": 56,
     "metadata": {},
     "output_type": "execute_result"
    }
   ],
   "source": [
    "df_new[df_new.date== '2020-08-04'].groupby('seller_country')['total'].sum().round()"
   ]
  },
  {
   "cell_type": "code",
   "execution_count": 118,
   "id": "0da254a7",
   "metadata": {},
   "outputs": [
    {
     "data": {
      "text/plain": [
       "935129.3255536666"
      ]
     },
     "execution_count": 118,
     "metadata": {},
     "output_type": "execute_result"
    }
   ],
   "source": [
    "df_new[df_new.date== '2020-08-04']['total'].sum()"
   ]
  },
  {
   "cell_type": "code",
   "execution_count": 119,
   "id": "75777a84",
   "metadata": {},
   "outputs": [
    {
     "data": {
      "text/plain": [
       "seller_country\n",
       "AU      2.804298\n",
       "CA      0.744339\n",
       "DE      0.158942\n",
       "FR      0.054632\n",
       "GB     58.182273\n",
       "IE      1.076052\n",
       "IT      2.941603\n",
       "RoW     0.766201\n",
       "US     33.271659\n",
       "Name: total, dtype: float64"
      ]
     },
     "execution_count": 119,
     "metadata": {},
     "output_type": "execute_result"
    }
   ],
   "source": [
    "df_new[df_new.date== '2020-08-04'].groupby('seller_country')['total'].sum().apply(lambda x : (x/df_new[df_new.date== '2020-08-04']['total'].sum())*100)"
   ]
  },
  {
   "cell_type": "code",
   "execution_count": 120,
   "id": "f4987969",
   "metadata": {},
   "outputs": [
    {
     "data": {
      "text/plain": [
       "seller_country\n",
       "AU      2.8\n",
       "CA      0.7\n",
       "DE      0.2\n",
       "FR      0.1\n",
       "GB     58.2\n",
       "IE      1.1\n",
       "IT      2.9\n",
       "RoW     0.8\n",
       "US     33.3\n",
       "Name: total, dtype: float64"
      ]
     },
     "execution_count": 120,
     "metadata": {},
     "output_type": "execute_result"
    }
   ],
   "source": [
    "df_new[df_new.date== '2020-08-04'].groupby('seller_country')['total'].sum().apply(lambda x : (x/df_new[df_new.date== '2020-08-04']['total'].sum())*100).round(1)"
   ]
  },
  {
   "cell_type": "code",
   "execution_count": 62,
   "id": "6a9f5507",
   "metadata": {},
   "outputs": [
    {
     "data": {
      "text/plain": [
       "seller_country\n",
       "AU      3.0\n",
       "CA      1.0\n",
       "DE      0.0\n",
       "FR      0.0\n",
       "GB     59.0\n",
       "IE      1.0\n",
       "IT      3.0\n",
       "RoW     1.0\n",
       "US     33.0\n",
       "Name: total, dtype: float64"
      ]
     },
     "execution_count": 62,
     "metadata": {},
     "output_type": "execute_result"
    }
   ],
   "source": [
    "df_new.groupby('seller_country')['total'].sum().apply(lambda x : (x/df_new['total'].sum())*100).round()"
   ]
  },
  {
   "cell_type": "code",
   "execution_count": 114,
   "id": "c6ba03aa",
   "metadata": {},
   "outputs": [
    {
     "data": {
      "text/plain": [
       "seller_country\n",
       "AU     0.405219\n",
       "CA     0.107557\n",
       "DE     0.022967\n",
       "FR     0.007894\n",
       "GB     8.407303\n",
       "IE     0.155489\n",
       "IT     0.425060\n",
       "RoW    0.110716\n",
       "US     4.807734\n",
       "Name: total, dtype: float64"
      ]
     },
     "execution_count": 114,
     "metadata": {},
     "output_type": "execute_result"
    }
   ],
   "source": [
    "df_new[df_new.date== '2020-08-04'].groupby('seller_country')['total'].sum().apply(lambda x : (x/df_new['total'].sum())*100)"
   ]
  },
  {
   "cell_type": "markdown",
   "id": "ec94599f",
   "metadata": {},
   "source": [
    "## 5. How many sellers in US has more than 75 sales? "
   ]
  },
  {
   "cell_type": "code",
   "execution_count": 66,
   "id": "151a2cde",
   "metadata": {},
   "outputs": [
    {
     "data": {
      "text/plain": [
       "seller_id\n",
       "pzsiehl0    703\n",
       "wd3rgi3q    525\n",
       "j21w87xy    500\n",
       "ucp2k0nu    218\n",
       "r64zesw6    211\n",
       "           ... \n",
       "evo9d2vu      1\n",
       "evl1txv5      1\n",
       "evkjcu3x      1\n",
       "evjivady      1\n",
       "i07ohhd1      1\n",
       "Name: seller_id, Length: 34119, dtype: int64"
      ]
     },
     "execution_count": 66,
     "metadata": {},
     "output_type": "execute_result"
    }
   ],
   "source": [
    "df_new[df_new['seller_country']== 'US'].groupby('seller_id')['seller_id'].count().sort_values(ascending=False)"
   ]
  },
  {
   "cell_type": "code",
   "execution_count": 68,
   "id": "7f9ed598",
   "metadata": {},
   "outputs": [
    {
     "data": {
      "text/plain": [
       "22"
      ]
     },
     "execution_count": 68,
     "metadata": {},
     "output_type": "execute_result"
    }
   ],
   "source": [
    "(df_new[df_new['seller_country']== 'US'].groupby('seller_id')['seller_id'].count()> 75).sum()"
   ]
  },
  {
   "cell_type": "code",
   "execution_count": 72,
   "id": "07e25702",
   "metadata": {},
   "outputs": [
    {
     "data": {
      "text/plain": [
       "22"
      ]
     },
     "execution_count": 72,
     "metadata": {},
     "output_type": "execute_result"
    }
   ],
   "source": [
    "(df_new[df_new['seller_country']== 'US'].groupby('seller_id')['seller_id'].count()>= 75).sum()"
   ]
  },
  {
   "cell_type": "markdown",
   "id": "cc63df46",
   "metadata": {},
   "source": [
    "## 6. Which seller in the US sold the most in terms of value? "
   ]
  },
  {
   "cell_type": "code",
   "execution_count": 123,
   "id": "fb9159b0",
   "metadata": {},
   "outputs": [
    {
     "data": {
      "text/plain": [
       "seller_id\n",
       "lm7s1mb8        0.89\n",
       "q30kdgu9        0.89\n",
       "vgpfz2la        0.89\n",
       "zwmoawx5        0.89\n",
       "2ylrpzdc        0.89\n",
       "              ...   \n",
       "j21w87xy     4728.39\n",
       "k4cbl88u     4913.33\n",
       "ys8t8gfo     5071.18\n",
       "wd3rgi3q     9005.92\n",
       "pzsiehl0    20558.87\n",
       "Name: total, Length: 34119, dtype: float64"
      ]
     },
     "execution_count": 123,
     "metadata": {},
     "output_type": "execute_result"
    }
   ],
   "source": [
    "df_new[df_new['seller_country']== 'US'].groupby('seller_id')['total'].sum().sort_values().round(2)"
   ]
  },
  {
   "cell_type": "code",
   "execution_count": 78,
   "id": "71b83577",
   "metadata": {},
   "outputs": [
    {
     "data": {
      "text/plain": [
       "seller_id\n",
       "lm7s1mb8       0.888742\n",
       "zwmoawx5       0.888742\n",
       "vgpfz2la       0.888742\n",
       "q30kdgu9       0.888742\n",
       "2ylrpzdc       0.890748\n",
       "               ...     \n",
       "4w2wrffo     850.263872\n",
       "0wxk6xem     858.206535\n",
       "3nr37hmd     894.921050\n",
       "f1tj5aj3    1004.896262\n",
       "o68e2qco    3045.065881\n",
       "Name: total, Length: 34119, dtype: float64"
      ]
     },
     "execution_count": 78,
     "metadata": {},
     "output_type": "execute_result"
    }
   ],
   "source": [
    "df_new[df_new['seller_country']== 'US'].groupby('seller_id')['total'].max().sort_values()"
   ]
  },
  {
   "cell_type": "markdown",
   "id": "0b77d0ef",
   "metadata": {},
   "source": [
    "## 7. Which brand had the largest absolute € difference in average transaction value between domestic and international?"
   ]
  },
  {
   "cell_type": "code",
   "execution_count": 79,
   "id": "a633b5e2",
   "metadata": {},
   "outputs": [
    {
     "data": {
      "text/html": [
       "<div>\n",
       "<style scoped>\n",
       "    .dataframe tbody tr th:only-of-type {\n",
       "        vertical-align: middle;\n",
       "    }\n",
       "\n",
       "    .dataframe tbody tr th {\n",
       "        vertical-align: top;\n",
       "    }\n",
       "\n",
       "    .dataframe thead th {\n",
       "        text-align: right;\n",
       "    }\n",
       "</style>\n",
       "<table border=\"1\" class=\"dataframe\">\n",
       "  <thead>\n",
       "    <tr style=\"text-align: right;\">\n",
       "      <th></th>\n",
       "      <th>buyer_id</th>\n",
       "      <th>buyer_country</th>\n",
       "      <th>seller_id</th>\n",
       "      <th>seller_country</th>\n",
       "      <th>product_code</th>\n",
       "      <th>category</th>\n",
       "      <th>brand</th>\n",
       "      <th>currency</th>\n",
       "      <th>price</th>\n",
       "      <th>date</th>\n",
       "      <th>rate</th>\n",
       "      <th>total</th>\n",
       "    </tr>\n",
       "  </thead>\n",
       "  <tbody>\n",
       "    <tr>\n",
       "      <th>0</th>\n",
       "      <td>qzpjsi9t0o</td>\n",
       "      <td>GB</td>\n",
       "      <td>6oufpaot</td>\n",
       "      <td>GB</td>\n",
       "      <td>ydecnydr6obf</td>\n",
       "      <td>Dresses</td>\n",
       "      <td>NaN</td>\n",
       "      <td>GBP</td>\n",
       "      <td>19.11</td>\n",
       "      <td>2020-08-03</td>\n",
       "      <td>0.89935</td>\n",
       "      <td>21.248680</td>\n",
       "    </tr>\n",
       "    <tr>\n",
       "      <th>1</th>\n",
       "      <td>rd209r8c7c</td>\n",
       "      <td>GB</td>\n",
       "      <td>9p2ansc9</td>\n",
       "      <td>GB</td>\n",
       "      <td>wpxxf59cq7pc</td>\n",
       "      <td>Outerwear - Mens</td>\n",
       "      <td>Adidas Originals</td>\n",
       "      <td>GBP</td>\n",
       "      <td>24.91</td>\n",
       "      <td>2020-08-03</td>\n",
       "      <td>0.89935</td>\n",
       "      <td>27.697782</td>\n",
       "    </tr>\n",
       "    <tr>\n",
       "      <th>2</th>\n",
       "      <td>pqbcrl8azx</td>\n",
       "      <td>GB</td>\n",
       "      <td>r9zmzem8</td>\n",
       "      <td>GB</td>\n",
       "      <td>ua9mmn86wsqy</td>\n",
       "      <td>Tops - Womens</td>\n",
       "      <td>NaN</td>\n",
       "      <td>GBP</td>\n",
       "      <td>19.31</td>\n",
       "      <td>2020-08-03</td>\n",
       "      <td>0.89935</td>\n",
       "      <td>21.471062</td>\n",
       "    </tr>\n",
       "    <tr>\n",
       "      <th>3</th>\n",
       "      <td>j5en1rwmxp</td>\n",
       "      <td>GB</td>\n",
       "      <td>3o2nz88r</td>\n",
       "      <td>GB</td>\n",
       "      <td>tduo2uy8iszl</td>\n",
       "      <td>Bottoms - Womens</td>\n",
       "      <td>Urban Outfitters</td>\n",
       "      <td>GBP</td>\n",
       "      <td>16.98</td>\n",
       "      <td>2020-08-03</td>\n",
       "      <td>0.89935</td>\n",
       "      <td>18.880302</td>\n",
       "    </tr>\n",
       "    <tr>\n",
       "      <th>4</th>\n",
       "      <td>kjdezxeh1l</td>\n",
       "      <td>GB</td>\n",
       "      <td>7g56ublf</td>\n",
       "      <td>GB</td>\n",
       "      <td>39o00tcu89zq</td>\n",
       "      <td>Other</td>\n",
       "      <td>NaN</td>\n",
       "      <td>GBP</td>\n",
       "      <td>2.85</td>\n",
       "      <td>2020-08-03</td>\n",
       "      <td>0.89935</td>\n",
       "      <td>3.168955</td>\n",
       "    </tr>\n",
       "  </tbody>\n",
       "</table>\n",
       "</div>"
      ],
      "text/plain": [
       "     buyer_id buyer_country seller_id seller_country  product_code  \\\n",
       "0  qzpjsi9t0o            GB  6oufpaot             GB  ydecnydr6obf   \n",
       "1  rd209r8c7c            GB  9p2ansc9             GB  wpxxf59cq7pc   \n",
       "2  pqbcrl8azx            GB  r9zmzem8             GB  ua9mmn86wsqy   \n",
       "3  j5en1rwmxp            GB  3o2nz88r             GB  tduo2uy8iszl   \n",
       "4  kjdezxeh1l            GB  7g56ublf             GB  39o00tcu89zq   \n",
       "\n",
       "           category             brand currency  price       date     rate  \\\n",
       "0           Dresses               NaN      GBP  19.11 2020-08-03  0.89935   \n",
       "1  Outerwear - Mens  Adidas Originals      GBP  24.91 2020-08-03  0.89935   \n",
       "2     Tops - Womens               NaN      GBP  19.31 2020-08-03  0.89935   \n",
       "3  Bottoms - Womens  Urban Outfitters      GBP  16.98 2020-08-03  0.89935   \n",
       "4             Other               NaN      GBP   2.85 2020-08-03  0.89935   \n",
       "\n",
       "       total  \n",
       "0  21.248680  \n",
       "1  27.697782  \n",
       "2  21.471062  \n",
       "3  18.880302  \n",
       "4   3.168955  "
      ]
     },
     "execution_count": 79,
     "metadata": {},
     "output_type": "execute_result"
    }
   ],
   "source": [
    "df_new.head()"
   ]
  },
  {
   "cell_type": "code",
   "execution_count": 88,
   "id": "350ba8c0",
   "metadata": {},
   "outputs": [
    {
     "data": {
      "text/plain": [
       "brand\n",
       "TAG Heuer           224.586782\n",
       "Canada Goose        216.424622\n",
       "Emilio Pucci        214.758636\n",
       "Loeffler Randall    207.720370\n",
       "Goyard              202.661941\n",
       "                       ...    \n",
       "Popular Sports        4.452175\n",
       "Max Factor            4.329298\n",
       "Bronica               3.329066\n",
       "360 Cashmere          0.950906\n",
       "36572                 0.950199\n",
       "Name: total, Length: 1121, dtype: float64"
      ]
     },
     "execution_count": 88,
     "metadata": {},
     "output_type": "execute_result"
    }
   ],
   "source": [
    "a1= df_new[df_new['buyer_country']== df_new['seller_country']].groupby('brand')['total'].mean().sort_values(ascending= False)\n",
    "a1"
   ]
  },
  {
   "cell_type": "code",
   "execution_count": 89,
   "id": "50dcf761",
   "metadata": {},
   "outputs": [
    {
     "data": {
      "text/plain": [
       "brand\n",
       "Goyard          611.456926\n",
       "Loewe           461.082817\n",
       "Needles         314.338133\n",
       "Hermes          267.749153\n",
       "Craig Green     266.792684\n",
       "                   ...    \n",
       "Canada Goose      6.195821\n",
       "NICCE             5.377624\n",
       "Skinnydip         4.740491\n",
       "COS               1.189748\n",
       "Old Navy          0.960680\n",
       "Name: total, Length: 440, dtype: float64"
      ]
     },
     "execution_count": 89,
     "metadata": {},
     "output_type": "execute_result"
    }
   ],
   "source": [
    "a2= df_new[df_new['buyer_country'] != df_new['seller_country']].groupby('brand')['total'].mean().sort_values(ascending= False)\n",
    "a2"
   ]
  },
  {
   "cell_type": "code",
   "execution_count": 90,
   "id": "820112cb",
   "metadata": {},
   "outputs": [
    {
     "data": {
      "text/html": [
       "<div>\n",
       "<style scoped>\n",
       "    .dataframe tbody tr th:only-of-type {\n",
       "        vertical-align: middle;\n",
       "    }\n",
       "\n",
       "    .dataframe tbody tr th {\n",
       "        vertical-align: top;\n",
       "    }\n",
       "\n",
       "    .dataframe thead th {\n",
       "        text-align: right;\n",
       "    }\n",
       "</style>\n",
       "<table border=\"1\" class=\"dataframe\">\n",
       "  <thead>\n",
       "    <tr style=\"text-align: right;\">\n",
       "      <th></th>\n",
       "      <th>total</th>\n",
       "    </tr>\n",
       "    <tr>\n",
       "      <th>brand</th>\n",
       "      <th></th>\n",
       "    </tr>\n",
       "  </thead>\n",
       "  <tbody>\n",
       "    <tr>\n",
       "      <th>TAG Heuer</th>\n",
       "      <td>224.586782</td>\n",
       "    </tr>\n",
       "    <tr>\n",
       "      <th>Canada Goose</th>\n",
       "      <td>216.424622</td>\n",
       "    </tr>\n",
       "    <tr>\n",
       "      <th>Emilio Pucci</th>\n",
       "      <td>214.758636</td>\n",
       "    </tr>\n",
       "    <tr>\n",
       "      <th>Loeffler Randall</th>\n",
       "      <td>207.720370</td>\n",
       "    </tr>\n",
       "    <tr>\n",
       "      <th>Goyard</th>\n",
       "      <td>202.661941</td>\n",
       "    </tr>\n",
       "    <tr>\n",
       "      <th>...</th>\n",
       "      <td>...</td>\n",
       "    </tr>\n",
       "    <tr>\n",
       "      <th>Popular Sports</th>\n",
       "      <td>4.452175</td>\n",
       "    </tr>\n",
       "    <tr>\n",
       "      <th>Max Factor</th>\n",
       "      <td>4.329298</td>\n",
       "    </tr>\n",
       "    <tr>\n",
       "      <th>Bronica</th>\n",
       "      <td>3.329066</td>\n",
       "    </tr>\n",
       "    <tr>\n",
       "      <th>360 Cashmere</th>\n",
       "      <td>0.950906</td>\n",
       "    </tr>\n",
       "    <tr>\n",
       "      <th>36572</th>\n",
       "      <td>0.950199</td>\n",
       "    </tr>\n",
       "  </tbody>\n",
       "</table>\n",
       "<p>1121 rows × 1 columns</p>\n",
       "</div>"
      ],
      "text/plain": [
       "                       total\n",
       "brand                       \n",
       "TAG Heuer         224.586782\n",
       "Canada Goose      216.424622\n",
       "Emilio Pucci      214.758636\n",
       "Loeffler Randall  207.720370\n",
       "Goyard            202.661941\n",
       "...                      ...\n",
       "Popular Sports      4.452175\n",
       "Max Factor          4.329298\n",
       "Bronica             3.329066\n",
       "360 Cashmere        0.950906\n",
       "36572               0.950199\n",
       "\n",
       "[1121 rows x 1 columns]"
      ]
     },
     "execution_count": 90,
     "metadata": {},
     "output_type": "execute_result"
    }
   ],
   "source": [
    "df1= pd.DataFrame(a1)\n",
    "df1"
   ]
  },
  {
   "cell_type": "code",
   "execution_count": 97,
   "id": "57f9db27",
   "metadata": {},
   "outputs": [
    {
     "data": {
      "text/html": [
       "<div>\n",
       "<style scoped>\n",
       "    .dataframe tbody tr th:only-of-type {\n",
       "        vertical-align: middle;\n",
       "    }\n",
       "\n",
       "    .dataframe tbody tr th {\n",
       "        vertical-align: top;\n",
       "    }\n",
       "\n",
       "    .dataframe thead th {\n",
       "        text-align: right;\n",
       "    }\n",
       "</style>\n",
       "<table border=\"1\" class=\"dataframe\">\n",
       "  <thead>\n",
       "    <tr style=\"text-align: right;\">\n",
       "      <th></th>\n",
       "      <th>total</th>\n",
       "    </tr>\n",
       "    <tr>\n",
       "      <th>brand</th>\n",
       "      <th></th>\n",
       "    </tr>\n",
       "  </thead>\n",
       "  <tbody>\n",
       "    <tr>\n",
       "      <th>Goyard</th>\n",
       "      <td>611.456926</td>\n",
       "    </tr>\n",
       "    <tr>\n",
       "      <th>Loewe</th>\n",
       "      <td>461.082817</td>\n",
       "    </tr>\n",
       "    <tr>\n",
       "      <th>Needles</th>\n",
       "      <td>314.338133</td>\n",
       "    </tr>\n",
       "    <tr>\n",
       "      <th>Hermes</th>\n",
       "      <td>267.749153</td>\n",
       "    </tr>\n",
       "    <tr>\n",
       "      <th>Craig Green</th>\n",
       "      <td>266.792684</td>\n",
       "    </tr>\n",
       "    <tr>\n",
       "      <th>...</th>\n",
       "      <td>...</td>\n",
       "    </tr>\n",
       "    <tr>\n",
       "      <th>Canada Goose</th>\n",
       "      <td>6.195821</td>\n",
       "    </tr>\n",
       "    <tr>\n",
       "      <th>NICCE</th>\n",
       "      <td>5.377624</td>\n",
       "    </tr>\n",
       "    <tr>\n",
       "      <th>Skinnydip</th>\n",
       "      <td>4.740491</td>\n",
       "    </tr>\n",
       "    <tr>\n",
       "      <th>COS</th>\n",
       "      <td>1.189748</td>\n",
       "    </tr>\n",
       "    <tr>\n",
       "      <th>Old Navy</th>\n",
       "      <td>0.960680</td>\n",
       "    </tr>\n",
       "  </tbody>\n",
       "</table>\n",
       "<p>440 rows × 1 columns</p>\n",
       "</div>"
      ],
      "text/plain": [
       "                   total\n",
       "brand                   \n",
       "Goyard        611.456926\n",
       "Loewe         461.082817\n",
       "Needles       314.338133\n",
       "Hermes        267.749153\n",
       "Craig Green   266.792684\n",
       "...                  ...\n",
       "Canada Goose    6.195821\n",
       "NICCE           5.377624\n",
       "Skinnydip       4.740491\n",
       "COS             1.189748\n",
       "Old Navy        0.960680\n",
       "\n",
       "[440 rows x 1 columns]"
      ]
     },
     "execution_count": 97,
     "metadata": {},
     "output_type": "execute_result"
    }
   ],
   "source": [
    "df2= pd.DataFrame(a2)\n",
    "df2"
   ]
  },
  {
   "cell_type": "code",
   "execution_count": 103,
   "id": "235f9be3",
   "metadata": {},
   "outputs": [
    {
     "data": {
      "text/plain": [
       "brand\n",
       "Canada Goose       210.228801\n",
       "Rick Owens         121.425453\n",
       "Mansur Gavriel      68.068936\n",
       "Maison Margiela     52.279287\n",
       "Balmain             49.713976\n",
       "                      ...    \n",
       "francesca's               NaN\n",
       "kensie                    NaN\n",
       "liquid blue               NaN\n",
       "mixxmix                   NaN\n",
       "philosophy                NaN\n",
       "Name: total, Length: 1134, dtype: float64"
      ]
     },
     "execution_count": 103,
     "metadata": {},
     "output_type": "execute_result"
    }
   ],
   "source": [
    "(df1['total']-df2['total']).sort_values(ascending= False)"
   ]
  },
  {
   "cell_type": "code",
   "execution_count": 128,
   "id": "d7e2bb59",
   "metadata": {},
   "outputs": [
    {
     "data": {
      "text/plain": [
       "brand\n",
       "Goyard               -408.794985\n",
       "Loewe                -379.657343\n",
       "Hermes               -210.700192\n",
       "Needles              -198.880051\n",
       "Jean-Paul Gaultier   -192.660687\n",
       "                         ...    \n",
       "francesca's                  NaN\n",
       "kensie                       NaN\n",
       "liquid blue                  NaN\n",
       "mixxmix                      NaN\n",
       "philosophy                   NaN\n",
       "Name: total, Length: 1134, dtype: float64"
      ]
     },
     "execution_count": 128,
     "metadata": {},
     "output_type": "execute_result"
    }
   ],
   "source": [
    "(df1['total']-df2['total']).sort_values()"
   ]
  },
  {
   "cell_type": "code",
   "execution_count": 127,
   "id": "0c8ed825",
   "metadata": {},
   "outputs": [
    {
     "data": {
      "text/html": [
       "<div>\n",
       "<style scoped>\n",
       "    .dataframe tbody tr th:only-of-type {\n",
       "        vertical-align: middle;\n",
       "    }\n",
       "\n",
       "    .dataframe tbody tr th {\n",
       "        vertical-align: top;\n",
       "    }\n",
       "\n",
       "    .dataframe thead th {\n",
       "        text-align: right;\n",
       "    }\n",
       "</style>\n",
       "<table border=\"1\" class=\"dataframe\">\n",
       "  <thead>\n",
       "    <tr style=\"text-align: right;\">\n",
       "      <th></th>\n",
       "      <th>total</th>\n",
       "    </tr>\n",
       "    <tr>\n",
       "      <th>brand</th>\n",
       "      <th></th>\n",
       "    </tr>\n",
       "  </thead>\n",
       "  <tbody>\n",
       "    <tr>\n",
       "      <th>Goyard</th>\n",
       "      <td>408.794985</td>\n",
       "    </tr>\n",
       "    <tr>\n",
       "      <th>Loewe</th>\n",
       "      <td>379.657343</td>\n",
       "    </tr>\n",
       "    <tr>\n",
       "      <th>Hermes</th>\n",
       "      <td>210.700192</td>\n",
       "    </tr>\n",
       "    <tr>\n",
       "      <th>Canada Goose</th>\n",
       "      <td>210.228801</td>\n",
       "    </tr>\n",
       "    <tr>\n",
       "      <th>Needles</th>\n",
       "      <td>198.880051</td>\n",
       "    </tr>\n",
       "    <tr>\n",
       "      <th>...</th>\n",
       "      <td>...</td>\n",
       "    </tr>\n",
       "    <tr>\n",
       "      <th>francesca's</th>\n",
       "      <td>NaN</td>\n",
       "    </tr>\n",
       "    <tr>\n",
       "      <th>kensie</th>\n",
       "      <td>NaN</td>\n",
       "    </tr>\n",
       "    <tr>\n",
       "      <th>liquid blue</th>\n",
       "      <td>NaN</td>\n",
       "    </tr>\n",
       "    <tr>\n",
       "      <th>mixxmix</th>\n",
       "      <td>NaN</td>\n",
       "    </tr>\n",
       "    <tr>\n",
       "      <th>philosophy</th>\n",
       "      <td>NaN</td>\n",
       "    </tr>\n",
       "  </tbody>\n",
       "</table>\n",
       "<p>1134 rows × 1 columns</p>\n",
       "</div>"
      ],
      "text/plain": [
       "                   total\n",
       "brand                   \n",
       "Goyard        408.794985\n",
       "Loewe         379.657343\n",
       "Hermes        210.700192\n",
       "Canada Goose  210.228801\n",
       "Needles       198.880051\n",
       "...                  ...\n",
       "francesca's          NaN\n",
       "kensie               NaN\n",
       "liquid blue          NaN\n",
       "mixxmix              NaN\n",
       "philosophy           NaN\n",
       "\n",
       "[1134 rows x 1 columns]"
      ]
     },
     "execution_count": 127,
     "metadata": {},
     "output_type": "execute_result"
    }
   ],
   "source": [
    "np.abs(df1-df2).sort_values(by='total',ascending=False)"
   ]
  }
 ],
 "metadata": {
  "kernelspec": {
   "display_name": "Python 3 (ipykernel)",
   "language": "python",
   "name": "python3"
  },
  "language_info": {
   "codemirror_mode": {
    "name": "ipython",
    "version": 3
   },
   "file_extension": ".py",
   "mimetype": "text/x-python",
   "name": "python",
   "nbconvert_exporter": "python",
   "pygments_lexer": "ipython3",
   "version": "3.9.7"
  }
 },
 "nbformat": 4,
 "nbformat_minor": 5
}
