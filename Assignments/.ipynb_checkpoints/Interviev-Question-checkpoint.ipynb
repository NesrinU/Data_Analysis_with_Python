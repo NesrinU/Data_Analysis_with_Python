{
 "cells": [
  {
   "cell_type": "code",
   "execution_count": 2,
   "id": "443d4df4",
   "metadata": {},
   "outputs": [],
   "source": [
    "import pandas as pd\n",
    "import numpy as np\n"
   ]
  },
  {
   "cell_type": "markdown",
   "id": "c1f3457e",
   "metadata": {},
   "source": [
    "# 1.How many rows in the sales dataset?(Just write numbers) "
   ]
  },
  {
   "cell_type": "code",
   "execution_count": 3,
   "id": "46ab167e",
   "metadata": {},
   "outputs": [
    {
     "data": {
      "text/html": [
       "<div>\n",
       "<style scoped>\n",
       "    .dataframe tbody tr th:only-of-type {\n",
       "        vertical-align: middle;\n",
       "    }\n",
       "\n",
       "    .dataframe tbody tr th {\n",
       "        vertical-align: top;\n",
       "    }\n",
       "\n",
       "    .dataframe thead th {\n",
       "        text-align: right;\n",
       "    }\n",
       "</style>\n",
       "<table border=\"1\" class=\"dataframe\">\n",
       "  <thead>\n",
       "    <tr style=\"text-align: right;\">\n",
       "      <th></th>\n",
       "      <th>buyer_id</th>\n",
       "      <th>buyer_country</th>\n",
       "      <th>seller_id</th>\n",
       "      <th>seller_country</th>\n",
       "      <th>product_code</th>\n",
       "      <th>category</th>\n",
       "      <th>brand</th>\n",
       "      <th>currency</th>\n",
       "      <th>price</th>\n",
       "      <th>date</th>\n",
       "    </tr>\n",
       "  </thead>\n",
       "  <tbody>\n",
       "    <tr>\n",
       "      <th>0</th>\n",
       "      <td>qzpjsi9t0o</td>\n",
       "      <td>GB</td>\n",
       "      <td>6oufpaot</td>\n",
       "      <td>GB</td>\n",
       "      <td>ydecnydr6obf</td>\n",
       "      <td>Dresses</td>\n",
       "      <td>NaN</td>\n",
       "      <td>GBP</td>\n",
       "      <td>19.11</td>\n",
       "      <td>2020-08-03</td>\n",
       "    </tr>\n",
       "    <tr>\n",
       "      <th>1</th>\n",
       "      <td>o79pns1qwo</td>\n",
       "      <td>GB</td>\n",
       "      <td>50xki2yg</td>\n",
       "      <td>GB</td>\n",
       "      <td>38chj507o6h2</td>\n",
       "      <td>Outerwear</td>\n",
       "      <td>Adidas Originals</td>\n",
       "      <td>GBP</td>\n",
       "      <td>15.92</td>\n",
       "      <td>2020-08-09</td>\n",
       "    </tr>\n",
       "    <tr>\n",
       "      <th>2</th>\n",
       "      <td>sjgbjdkhqx</td>\n",
       "      <td>GB</td>\n",
       "      <td>50xki2yg</td>\n",
       "      <td>GB</td>\n",
       "      <td>i9ynyxj5tdp8</td>\n",
       "      <td>Tops - Mens</td>\n",
       "      <td>NaN</td>\n",
       "      <td>GBP</td>\n",
       "      <td>6.37</td>\n",
       "      <td>2020-08-07</td>\n",
       "    </tr>\n",
       "    <tr>\n",
       "      <th>3</th>\n",
       "      <td>o79pns1qwo</td>\n",
       "      <td>GB</td>\n",
       "      <td>s0p322hh</td>\n",
       "      <td>GB</td>\n",
       "      <td>t50xe7moye8v</td>\n",
       "      <td>Tops - Mens</td>\n",
       "      <td>Berghaus</td>\n",
       "      <td>GBP</td>\n",
       "      <td>25.27</td>\n",
       "      <td>2020-08-09</td>\n",
       "    </tr>\n",
       "    <tr>\n",
       "      <th>4</th>\n",
       "      <td>o79pns1qwo</td>\n",
       "      <td>GB</td>\n",
       "      <td>dpkx192v</td>\n",
       "      <td>GB</td>\n",
       "      <td>hp4r9bjq68af</td>\n",
       "      <td>Bottoms - Womens</td>\n",
       "      <td>NaN</td>\n",
       "      <td>GBP</td>\n",
       "      <td>8.90</td>\n",
       "      <td>2020-08-09</td>\n",
       "    </tr>\n",
       "  </tbody>\n",
       "</table>\n",
       "</div>"
      ],
      "text/plain": [
       "     buyer_id buyer_country seller_id seller_country  product_code  \\\n",
       "0  qzpjsi9t0o            GB  6oufpaot             GB  ydecnydr6obf   \n",
       "1  o79pns1qwo            GB  50xki2yg             GB  38chj507o6h2   \n",
       "2  sjgbjdkhqx            GB  50xki2yg             GB  i9ynyxj5tdp8   \n",
       "3  o79pns1qwo            GB  s0p322hh             GB  t50xe7moye8v   \n",
       "4  o79pns1qwo            GB  dpkx192v             GB  hp4r9bjq68af   \n",
       "\n",
       "           category             brand currency  price        date  \n",
       "0           Dresses               NaN      GBP  19.11  2020-08-03  \n",
       "1         Outerwear  Adidas Originals      GBP  15.92  2020-08-09  \n",
       "2       Tops - Mens               NaN      GBP   6.37  2020-08-07  \n",
       "3       Tops - Mens          Berghaus      GBP  25.27  2020-08-09  \n",
       "4  Bottoms - Womens               NaN      GBP   8.90  2020-08-09  "
      ]
     },
     "execution_count": 3,
     "metadata": {},
     "output_type": "execute_result"
    }
   ],
   "source": [
    "df=pd.read_csv('sales_082020.csv')\n",
    "df.head()"
   ]
  },
  {
   "cell_type": "code",
   "execution_count": 4,
   "id": "9322c816",
   "metadata": {},
   "outputs": [
    {
     "data": {
      "text/html": [
       "<div>\n",
       "<style scoped>\n",
       "    .dataframe tbody tr th:only-of-type {\n",
       "        vertical-align: middle;\n",
       "    }\n",
       "\n",
       "    .dataframe tbody tr th {\n",
       "        vertical-align: top;\n",
       "    }\n",
       "\n",
       "    .dataframe thead th {\n",
       "        text-align: right;\n",
       "    }\n",
       "</style>\n",
       "<table border=\"1\" class=\"dataframe\">\n",
       "  <thead>\n",
       "    <tr style=\"text-align: right;\">\n",
       "      <th></th>\n",
       "      <th>currency</th>\n",
       "      <th>date</th>\n",
       "      <th>rate</th>\n",
       "    </tr>\n",
       "  </thead>\n",
       "  <tbody>\n",
       "    <tr>\n",
       "      <th>0</th>\n",
       "      <td>EUR</td>\n",
       "      <td>8/1/2020</td>\n",
       "      <td>1.0000</td>\n",
       "    </tr>\n",
       "    <tr>\n",
       "      <th>1</th>\n",
       "      <td>EUR</td>\n",
       "      <td>8/2/2020</td>\n",
       "      <td>1.0000</td>\n",
       "    </tr>\n",
       "    <tr>\n",
       "      <th>2</th>\n",
       "      <td>EUR</td>\n",
       "      <td>8/3/2020</td>\n",
       "      <td>1.0000</td>\n",
       "    </tr>\n",
       "    <tr>\n",
       "      <th>3</th>\n",
       "      <td>EUR</td>\n",
       "      <td>8/4/2020</td>\n",
       "      <td>1.0000</td>\n",
       "    </tr>\n",
       "    <tr>\n",
       "      <th>4</th>\n",
       "      <td>EUR</td>\n",
       "      <td>8/5/2020</td>\n",
       "      <td>1.0000</td>\n",
       "    </tr>\n",
       "    <tr>\n",
       "      <th>...</th>\n",
       "      <td>...</td>\n",
       "      <td>...</td>\n",
       "      <td>...</td>\n",
       "    </tr>\n",
       "    <tr>\n",
       "      <th>215</th>\n",
       "      <td>BRL</td>\n",
       "      <td>8/6/2020</td>\n",
       "      <td>6.3324</td>\n",
       "    </tr>\n",
       "    <tr>\n",
       "      <th>216</th>\n",
       "      <td>BRL</td>\n",
       "      <td>8/7/2020</td>\n",
       "      <td>6.4111</td>\n",
       "    </tr>\n",
       "    <tr>\n",
       "      <th>217</th>\n",
       "      <td>BRL</td>\n",
       "      <td>8/8/2020</td>\n",
       "      <td>6.4111</td>\n",
       "    </tr>\n",
       "    <tr>\n",
       "      <th>218</th>\n",
       "      <td>BRL</td>\n",
       "      <td>8/9/2020</td>\n",
       "      <td>6.4111</td>\n",
       "    </tr>\n",
       "    <tr>\n",
       "      <th>219</th>\n",
       "      <td>BRL</td>\n",
       "      <td>8/10/2020</td>\n",
       "      <td>6.4351</td>\n",
       "    </tr>\n",
       "  </tbody>\n",
       "</table>\n",
       "<p>220 rows × 3 columns</p>\n",
       "</div>"
      ],
      "text/plain": [
       "    currency       date    rate\n",
       "0        EUR   8/1/2020  1.0000\n",
       "1        EUR   8/2/2020  1.0000\n",
       "2        EUR   8/3/2020  1.0000\n",
       "3        EUR   8/4/2020  1.0000\n",
       "4        EUR   8/5/2020  1.0000\n",
       "..       ...        ...     ...\n",
       "215      BRL   8/6/2020  6.3324\n",
       "216      BRL   8/7/2020  6.4111\n",
       "217      BRL   8/8/2020  6.4111\n",
       "218      BRL   8/9/2020  6.4111\n",
       "219      BRL  8/10/2020  6.4351\n",
       "\n",
       "[220 rows x 3 columns]"
      ]
     },
     "execution_count": 4,
     "metadata": {},
     "output_type": "execute_result"
    }
   ],
   "source": [
    "dfx= pd.read_csv('currency_rates_082020_EUR.csv')\n",
    "dfx"
   ]
  },
  {
   "cell_type": "code",
   "execution_count": 5,
   "id": "7686fb1b",
   "metadata": {},
   "outputs": [
    {
     "name": "stdout",
     "output_type": "stream",
     "text": [
      "<class 'pandas.core.frame.DataFrame'>\n",
      "RangeIndex: 220 entries, 0 to 219\n",
      "Data columns (total 3 columns):\n",
      " #   Column    Non-Null Count  Dtype  \n",
      "---  ------    --------------  -----  \n",
      " 0   currency  220 non-null    object \n",
      " 1   date      220 non-null    object \n",
      " 2   rate      220 non-null    float64\n",
      "dtypes: float64(1), object(2)\n",
      "memory usage: 5.3+ KB\n"
     ]
    }
   ],
   "source": [
    "dfx.info()"
   ]
  },
  {
   "cell_type": "code",
   "execution_count": 4,
   "id": "a0bd6c01",
   "metadata": {},
   "outputs": [
    {
     "name": "stdout",
     "output_type": "stream",
     "text": [
      "<class 'pandas.core.frame.DataFrame'>\n",
      "RangeIndex: 237671 entries, 0 to 237670\n",
      "Data columns (total 10 columns):\n",
      " #   Column          Non-Null Count   Dtype  \n",
      "---  ------          --------------   -----  \n",
      " 0   buyer_id        237671 non-null  object \n",
      " 1   buyer_country   237671 non-null  object \n",
      " 2   seller_id       237671 non-null  object \n",
      " 3   seller_country  237671 non-null  object \n",
      " 4   product_code    237671 non-null  object \n",
      " 5   category        237655 non-null  object \n",
      " 6   brand           119330 non-null  object \n",
      " 7   currency        237671 non-null  object \n",
      " 8   price           237671 non-null  float64\n",
      " 9   date            237671 non-null  object \n",
      "dtypes: float64(1), object(9)\n",
      "memory usage: 18.1+ MB\n"
     ]
    }
   ],
   "source": [
    "df.info()"
   ]
  },
  {
   "cell_type": "code",
   "execution_count": 6,
   "id": "825c9fdf",
   "metadata": {},
   "outputs": [
    {
     "data": {
      "text/plain": [
       "(237671, 10)"
      ]
     },
     "execution_count": 6,
     "metadata": {},
     "output_type": "execute_result"
    }
   ],
   "source": [
    "df.shape"
   ]
  },
  {
   "cell_type": "code",
   "execution_count": 7,
   "id": "173be164",
   "metadata": {},
   "outputs": [
    {
     "data": {
      "text/plain": [
       "237671"
      ]
     },
     "execution_count": 7,
     "metadata": {},
     "output_type": "execute_result"
    }
   ],
   "source": [
    "df.shape[0]"
   ]
  },
  {
   "cell_type": "code",
   "execution_count": 8,
   "id": "30c4c428",
   "metadata": {},
   "outputs": [
    {
     "data": {
      "text/plain": [
       "237671"
      ]
     },
     "execution_count": 8,
     "metadata": {},
     "output_type": "execute_result"
    }
   ],
   "source": [
    "len(df)"
   ]
  },
  {
   "cell_type": "markdown",
   "id": "eb2af905",
   "metadata": {},
   "source": [
    "# 2.How many columns in the sales dataset?(Just write numbers) "
   ]
  },
  {
   "cell_type": "code",
   "execution_count": 6,
   "id": "d3bea367",
   "metadata": {},
   "outputs": [
    {
     "data": {
      "text/plain": [
       "10"
      ]
     },
     "execution_count": 6,
     "metadata": {},
     "output_type": "execute_result"
    }
   ],
   "source": [
    "df.shape[1]"
   ]
  },
  {
   "cell_type": "markdown",
   "id": "246858c7",
   "metadata": {},
   "source": [
    "# 3. What is the total number of sellers?(Just write numbers)"
   ]
  },
  {
   "cell_type": "code",
   "execution_count": 148,
   "id": "449ce09b",
   "metadata": {},
   "outputs": [
    {
     "data": {
      "text/plain": [
       "114227"
      ]
     },
     "execution_count": 148,
     "metadata": {},
     "output_type": "execute_result"
    }
   ],
   "source": [
    "df[\"seller_id\"].value_counts().count()"
   ]
  },
  {
   "cell_type": "code",
   "execution_count": 12,
   "id": "882ec24f",
   "metadata": {},
   "outputs": [
    {
     "data": {
      "text/plain": [
       "114227"
      ]
     },
     "execution_count": 12,
     "metadata": {},
     "output_type": "execute_result"
    }
   ],
   "source": [
    "len(df[\"seller_id\"].unique())"
   ]
  },
  {
   "cell_type": "code",
   "execution_count": 11,
   "id": "c1796925",
   "metadata": {},
   "outputs": [
    {
     "data": {
      "text/plain": [
       "114227"
      ]
     },
     "execution_count": 11,
     "metadata": {},
     "output_type": "execute_result"
    }
   ],
   "source": [
    "df[\"seller_id\"].nunique()"
   ]
  },
  {
   "cell_type": "markdown",
   "id": "5bf3c7a4",
   "metadata": {},
   "source": [
    "# 4.What is the total value of sales in EUR?(Just write numbers)"
   ]
  },
  {
   "cell_type": "code",
   "execution_count": 107,
   "id": "620b8cc1",
   "metadata": {},
   "outputs": [
    {
     "data": {
      "text/plain": [
       "array(['GBP', 'USD', 'AUD', 'EUR', 'CAD', 'NZD', 'HKD', 'CHF', 'SEK',\n",
       "       'DKK', 'ILS', 'PLN', 'THB', 'MXN', 'JPY', 'NOK', 'SGD', 'MYR',\n",
       "       'TWD', 'HUF', 'CZK', 'BRL'], dtype=object)"
      ]
     },
     "execution_count": 107,
     "metadata": {},
     "output_type": "execute_result"
    }
   ],
   "source": [
    "df['currency'].unique()"
   ]
  },
  {
   "cell_type": "code",
   "execution_count": 15,
   "id": "930a1202",
   "metadata": {},
   "outputs": [
    {
     "data": {
      "text/html": [
       "<div>\n",
       "<style scoped>\n",
       "    .dataframe tbody tr th:only-of-type {\n",
       "        vertical-align: middle;\n",
       "    }\n",
       "\n",
       "    .dataframe tbody tr th {\n",
       "        vertical-align: top;\n",
       "    }\n",
       "\n",
       "    .dataframe thead th {\n",
       "        text-align: right;\n",
       "    }\n",
       "</style>\n",
       "<table border=\"1\" class=\"dataframe\">\n",
       "  <thead>\n",
       "    <tr style=\"text-align: right;\">\n",
       "      <th></th>\n",
       "      <th>currency</th>\n",
       "      <th>date</th>\n",
       "      <th>rate</th>\n",
       "    </tr>\n",
       "  </thead>\n",
       "  <tbody>\n",
       "    <tr>\n",
       "      <th>132</th>\n",
       "      <td>MXN</td>\n",
       "      <td>8/3/2020</td>\n",
       "      <td>26.625950</td>\n",
       "    </tr>\n",
       "    <tr>\n",
       "      <th>126</th>\n",
       "      <td>THB</td>\n",
       "      <td>8/7/2020</td>\n",
       "      <td>36.808000</td>\n",
       "    </tr>\n",
       "    <tr>\n",
       "      <th>73</th>\n",
       "      <td>CHF</td>\n",
       "      <td>8/4/2020</td>\n",
       "      <td>1.078265</td>\n",
       "    </tr>\n",
       "    <tr>\n",
       "      <th>147</th>\n",
       "      <td>JPY</td>\n",
       "      <td>8/8/2020</td>\n",
       "      <td>124.873400</td>\n",
       "    </tr>\n",
       "    <tr>\n",
       "      <th>198</th>\n",
       "      <td>HUF</td>\n",
       "      <td>8/9/2020</td>\n",
       "      <td>346.270000</td>\n",
       "    </tr>\n",
       "    <tr>\n",
       "      <th>8</th>\n",
       "      <td>EUR</td>\n",
       "      <td>8/9/2020</td>\n",
       "      <td>1.000000</td>\n",
       "    </tr>\n",
       "    <tr>\n",
       "      <th>81</th>\n",
       "      <td>SEK</td>\n",
       "      <td>8/2/2020</td>\n",
       "      <td>10.341820</td>\n",
       "    </tr>\n",
       "    <tr>\n",
       "      <th>31</th>\n",
       "      <td>AUD</td>\n",
       "      <td>8/2/2020</td>\n",
       "      <td>1.648640</td>\n",
       "    </tr>\n",
       "    <tr>\n",
       "      <th>211</th>\n",
       "      <td>BRL</td>\n",
       "      <td>8/2/2020</td>\n",
       "      <td>6.134300</td>\n",
       "    </tr>\n",
       "    <tr>\n",
       "      <th>6</th>\n",
       "      <td>EUR</td>\n",
       "      <td>8/7/2020</td>\n",
       "      <td>1.000000</td>\n",
       "    </tr>\n",
       "  </tbody>\n",
       "</table>\n",
       "</div>"
      ],
      "text/plain": [
       "    currency      date        rate\n",
       "132      MXN  8/3/2020   26.625950\n",
       "126      THB  8/7/2020   36.808000\n",
       "73       CHF  8/4/2020    1.078265\n",
       "147      JPY  8/8/2020  124.873400\n",
       "198      HUF  8/9/2020  346.270000\n",
       "8        EUR  8/9/2020    1.000000\n",
       "81       SEK  8/2/2020   10.341820\n",
       "31       AUD  8/2/2020    1.648640\n",
       "211      BRL  8/2/2020    6.134300\n",
       "6        EUR  8/7/2020    1.000000"
      ]
     },
     "execution_count": 15,
     "metadata": {},
     "output_type": "execute_result"
    }
   ],
   "source": [
    "dfx.sample(10)"
   ]
  },
  {
   "cell_type": "code",
   "execution_count": 16,
   "id": "2539487e",
   "metadata": {},
   "outputs": [],
   "source": [
    "dfs= df.copy()\n",
    "dfc= dfx.copy()"
   ]
  },
  {
   "cell_type": "code",
   "execution_count": 19,
   "id": "8256bb89",
   "metadata": {},
   "outputs": [],
   "source": [
    "dfs.date = pd.to_datetime(dfs.date)"
   ]
  },
  {
   "cell_type": "code",
   "execution_count": 20,
   "id": "3ce1f461",
   "metadata": {},
   "outputs": [
    {
     "name": "stdout",
     "output_type": "stream",
     "text": [
      "<class 'pandas.core.frame.DataFrame'>\n",
      "RangeIndex: 237671 entries, 0 to 237670\n",
      "Data columns (total 10 columns):\n",
      " #   Column          Non-Null Count   Dtype         \n",
      "---  ------          --------------   -----         \n",
      " 0   buyer_id        237671 non-null  object        \n",
      " 1   buyer_country   237671 non-null  object        \n",
      " 2   seller_id       237671 non-null  object        \n",
      " 3   seller_country  237671 non-null  object        \n",
      " 4   product_code    237671 non-null  object        \n",
      " 5   category        237655 non-null  object        \n",
      " 6   brand           119330 non-null  object        \n",
      " 7   currency        237671 non-null  object        \n",
      " 8   price           237671 non-null  float64       \n",
      " 9   date            237671 non-null  datetime64[ns]\n",
      "dtypes: datetime64[ns](1), float64(1), object(8)\n",
      "memory usage: 18.1+ MB\n"
     ]
    }
   ],
   "source": [
    "dfs.info()"
   ]
  },
  {
   "cell_type": "code",
   "execution_count": 21,
   "id": "bf7845aa",
   "metadata": {},
   "outputs": [],
   "source": [
    "dfc.date= pd.to_datetime(dfc.date)"
   ]
  },
  {
   "cell_type": "code",
   "execution_count": 22,
   "id": "2b601745",
   "metadata": {},
   "outputs": [
    {
     "name": "stdout",
     "output_type": "stream",
     "text": [
      "<class 'pandas.core.frame.DataFrame'>\n",
      "RangeIndex: 220 entries, 0 to 219\n",
      "Data columns (total 3 columns):\n",
      " #   Column    Non-Null Count  Dtype         \n",
      "---  ------    --------------  -----         \n",
      " 0   currency  220 non-null    object        \n",
      " 1   date      220 non-null    datetime64[ns]\n",
      " 2   rate      220 non-null    float64       \n",
      "dtypes: datetime64[ns](1), float64(1), object(1)\n",
      "memory usage: 5.3+ KB\n"
     ]
    }
   ],
   "source": [
    "dfc.info()"
   ]
  },
  {
   "cell_type": "code",
   "execution_count": 23,
   "id": "fd21d792",
   "metadata": {},
   "outputs": [
    {
     "data": {
      "text/html": [
       "<div>\n",
       "<style scoped>\n",
       "    .dataframe tbody tr th:only-of-type {\n",
       "        vertical-align: middle;\n",
       "    }\n",
       "\n",
       "    .dataframe tbody tr th {\n",
       "        vertical-align: top;\n",
       "    }\n",
       "\n",
       "    .dataframe thead th {\n",
       "        text-align: right;\n",
       "    }\n",
       "</style>\n",
       "<table border=\"1\" class=\"dataframe\">\n",
       "  <thead>\n",
       "    <tr style=\"text-align: right;\">\n",
       "      <th></th>\n",
       "      <th>buyer_id</th>\n",
       "      <th>buyer_country</th>\n",
       "      <th>seller_id</th>\n",
       "      <th>seller_country</th>\n",
       "      <th>product_code</th>\n",
       "      <th>category</th>\n",
       "      <th>brand</th>\n",
       "      <th>currency</th>\n",
       "      <th>price</th>\n",
       "      <th>date</th>\n",
       "      <th>rate</th>\n",
       "    </tr>\n",
       "  </thead>\n",
       "  <tbody>\n",
       "    <tr>\n",
       "      <th>0</th>\n",
       "      <td>qzpjsi9t0o</td>\n",
       "      <td>GB</td>\n",
       "      <td>6oufpaot</td>\n",
       "      <td>GB</td>\n",
       "      <td>ydecnydr6obf</td>\n",
       "      <td>Dresses</td>\n",
       "      <td>NaN</td>\n",
       "      <td>GBP</td>\n",
       "      <td>19.11</td>\n",
       "      <td>2020-08-03</td>\n",
       "      <td>0.89935</td>\n",
       "    </tr>\n",
       "    <tr>\n",
       "      <th>1</th>\n",
       "      <td>rd209r8c7c</td>\n",
       "      <td>GB</td>\n",
       "      <td>9p2ansc9</td>\n",
       "      <td>GB</td>\n",
       "      <td>wpxxf59cq7pc</td>\n",
       "      <td>Outerwear - Mens</td>\n",
       "      <td>Adidas Originals</td>\n",
       "      <td>GBP</td>\n",
       "      <td>24.91</td>\n",
       "      <td>2020-08-03</td>\n",
       "      <td>0.89935</td>\n",
       "    </tr>\n",
       "    <tr>\n",
       "      <th>2</th>\n",
       "      <td>pqbcrl8azx</td>\n",
       "      <td>GB</td>\n",
       "      <td>r9zmzem8</td>\n",
       "      <td>GB</td>\n",
       "      <td>ua9mmn86wsqy</td>\n",
       "      <td>Tops - Womens</td>\n",
       "      <td>NaN</td>\n",
       "      <td>GBP</td>\n",
       "      <td>19.31</td>\n",
       "      <td>2020-08-03</td>\n",
       "      <td>0.89935</td>\n",
       "    </tr>\n",
       "    <tr>\n",
       "      <th>3</th>\n",
       "      <td>j5en1rwmxp</td>\n",
       "      <td>GB</td>\n",
       "      <td>3o2nz88r</td>\n",
       "      <td>GB</td>\n",
       "      <td>tduo2uy8iszl</td>\n",
       "      <td>Bottoms - Womens</td>\n",
       "      <td>Urban Outfitters</td>\n",
       "      <td>GBP</td>\n",
       "      <td>16.98</td>\n",
       "      <td>2020-08-03</td>\n",
       "      <td>0.89935</td>\n",
       "    </tr>\n",
       "    <tr>\n",
       "      <th>4</th>\n",
       "      <td>kjdezxeh1l</td>\n",
       "      <td>GB</td>\n",
       "      <td>7g56ublf</td>\n",
       "      <td>GB</td>\n",
       "      <td>39o00tcu89zq</td>\n",
       "      <td>Other</td>\n",
       "      <td>NaN</td>\n",
       "      <td>GBP</td>\n",
       "      <td>2.85</td>\n",
       "      <td>2020-08-03</td>\n",
       "      <td>0.89935</td>\n",
       "    </tr>\n",
       "  </tbody>\n",
       "</table>\n",
       "</div>"
      ],
      "text/plain": [
       "     buyer_id buyer_country seller_id seller_country  product_code  \\\n",
       "0  qzpjsi9t0o            GB  6oufpaot             GB  ydecnydr6obf   \n",
       "1  rd209r8c7c            GB  9p2ansc9             GB  wpxxf59cq7pc   \n",
       "2  pqbcrl8azx            GB  r9zmzem8             GB  ua9mmn86wsqy   \n",
       "3  j5en1rwmxp            GB  3o2nz88r             GB  tduo2uy8iszl   \n",
       "4  kjdezxeh1l            GB  7g56ublf             GB  39o00tcu89zq   \n",
       "\n",
       "           category             brand currency  price       date     rate  \n",
       "0           Dresses               NaN      GBP  19.11 2020-08-03  0.89935  \n",
       "1  Outerwear - Mens  Adidas Originals      GBP  24.91 2020-08-03  0.89935  \n",
       "2     Tops - Womens               NaN      GBP  19.31 2020-08-03  0.89935  \n",
       "3  Bottoms - Womens  Urban Outfitters      GBP  16.98 2020-08-03  0.89935  \n",
       "4             Other               NaN      GBP   2.85 2020-08-03  0.89935  "
      ]
     },
     "execution_count": 23,
     "metadata": {},
     "output_type": "execute_result"
    }
   ],
   "source": [
    "df_new = pd.merge(dfs, dfc, how= 'inner', on= ['currency', 'date'])\n",
    "df_new.head()"
   ]
  },
  {
   "cell_type": "code",
   "execution_count": 24,
   "id": "d4707aed",
   "metadata": {},
   "outputs": [
    {
     "name": "stdout",
     "output_type": "stream",
     "text": [
      "<class 'pandas.core.frame.DataFrame'>\n",
      "Int64Index: 237671 entries, 0 to 237670\n",
      "Data columns (total 11 columns):\n",
      " #   Column          Non-Null Count   Dtype         \n",
      "---  ------          --------------   -----         \n",
      " 0   buyer_id        237671 non-null  object        \n",
      " 1   buyer_country   237671 non-null  object        \n",
      " 2   seller_id       237671 non-null  object        \n",
      " 3   seller_country  237671 non-null  object        \n",
      " 4   product_code    237671 non-null  object        \n",
      " 5   category        237655 non-null  object        \n",
      " 6   brand           119330 non-null  object        \n",
      " 7   currency        237671 non-null  object        \n",
      " 8   price           237671 non-null  float64       \n",
      " 9   date            237671 non-null  datetime64[ns]\n",
      " 10  rate            237671 non-null  float64       \n",
      "dtypes: datetime64[ns](1), float64(2), object(8)\n",
      "memory usage: 21.8+ MB\n"
     ]
    }
   ],
   "source": [
    "df_new.info()"
   ]
  },
  {
   "cell_type": "code",
   "execution_count": 29,
   "id": "07797bd4",
   "metadata": {},
   "outputs": [
    {
     "data": {
      "text/html": [
       "<div>\n",
       "<style scoped>\n",
       "    .dataframe tbody tr th:only-of-type {\n",
       "        vertical-align: middle;\n",
       "    }\n",
       "\n",
       "    .dataframe tbody tr th {\n",
       "        vertical-align: top;\n",
       "    }\n",
       "\n",
       "    .dataframe thead th {\n",
       "        text-align: right;\n",
       "    }\n",
       "</style>\n",
       "<table border=\"1\" class=\"dataframe\">\n",
       "  <thead>\n",
       "    <tr style=\"text-align: right;\">\n",
       "      <th></th>\n",
       "      <th>buyer_id</th>\n",
       "      <th>buyer_country</th>\n",
       "      <th>seller_id</th>\n",
       "      <th>seller_country</th>\n",
       "      <th>product_code</th>\n",
       "      <th>category</th>\n",
       "      <th>brand</th>\n",
       "      <th>currency</th>\n",
       "      <th>price</th>\n",
       "      <th>date</th>\n",
       "      <th>rate</th>\n",
       "    </tr>\n",
       "  </thead>\n",
       "  <tbody>\n",
       "    <tr>\n",
       "      <th>10525</th>\n",
       "      <td>tlfpxzxzkv</td>\n",
       "      <td>GB</td>\n",
       "      <td>uqcji71x</td>\n",
       "      <td>GB</td>\n",
       "      <td>sagqguttnstk</td>\n",
       "      <td>Tech</td>\n",
       "      <td>NaN</td>\n",
       "      <td>GBP</td>\n",
       "      <td>38.54</td>\n",
       "      <td>2020-08-03</td>\n",
       "      <td>0.899350</td>\n",
       "    </tr>\n",
       "    <tr>\n",
       "      <th>188210</th>\n",
       "      <td>iyc0tjslnk</td>\n",
       "      <td>US</td>\n",
       "      <td>jqpop5ko</td>\n",
       "      <td>US</td>\n",
       "      <td>tbruh9bxepg0</td>\n",
       "      <td>Home</td>\n",
       "      <td>NaN</td>\n",
       "      <td>USD</td>\n",
       "      <td>14.70</td>\n",
       "      <td>2020-08-08</td>\n",
       "      <td>1.178700</td>\n",
       "    </tr>\n",
       "    <tr>\n",
       "      <th>71840</th>\n",
       "      <td>ubnf88vwzq</td>\n",
       "      <td>GB</td>\n",
       "      <td>0m633beq</td>\n",
       "      <td>GB</td>\n",
       "      <td>tgd6t0dms9fw</td>\n",
       "      <td>Jewellery</td>\n",
       "      <td>NaN</td>\n",
       "      <td>GBP</td>\n",
       "      <td>4.32</td>\n",
       "      <td>2020-08-04</td>\n",
       "      <td>0.902815</td>\n",
       "    </tr>\n",
       "    <tr>\n",
       "      <th>160042</th>\n",
       "      <td>0ccah02y1z</td>\n",
       "      <td>GB</td>\n",
       "      <td>u1xzxcj1</td>\n",
       "      <td>GB</td>\n",
       "      <td>hpchpian0xar</td>\n",
       "      <td>Bottoms - Womens</td>\n",
       "      <td>NaN</td>\n",
       "      <td>GBP</td>\n",
       "      <td>15.91</td>\n",
       "      <td>2020-08-08</td>\n",
       "      <td>0.903200</td>\n",
       "    </tr>\n",
       "    <tr>\n",
       "      <th>43932</th>\n",
       "      <td>1xsw1e2b1a</td>\n",
       "      <td>GB</td>\n",
       "      <td>hbtm3tdy</td>\n",
       "      <td>GB</td>\n",
       "      <td>2ch1v4uuzidz</td>\n",
       "      <td>Tops - Womens</td>\n",
       "      <td>NaN</td>\n",
       "      <td>GBP</td>\n",
       "      <td>17.46</td>\n",
       "      <td>2020-08-07</td>\n",
       "      <td>0.902860</td>\n",
       "    </tr>\n",
       "    <tr>\n",
       "      <th>2056</th>\n",
       "      <td>tywn51pqst</td>\n",
       "      <td>GB</td>\n",
       "      <td>zus95fk0</td>\n",
       "      <td>GB</td>\n",
       "      <td>a0452u1lkm2s</td>\n",
       "      <td>Kids</td>\n",
       "      <td>NaN</td>\n",
       "      <td>GBP</td>\n",
       "      <td>19.02</td>\n",
       "      <td>2020-08-03</td>\n",
       "      <td>0.899350</td>\n",
       "    </tr>\n",
       "    <tr>\n",
       "      <th>222350</th>\n",
       "      <td>d4857dvvyt</td>\n",
       "      <td>US</td>\n",
       "      <td>j6ck5spg</td>\n",
       "      <td>US</td>\n",
       "      <td>eye48wqpngyu</td>\n",
       "      <td>Other</td>\n",
       "      <td>NaN</td>\n",
       "      <td>USD</td>\n",
       "      <td>81.54</td>\n",
       "      <td>2020-08-07</td>\n",
       "      <td>1.178785</td>\n",
       "    </tr>\n",
       "    <tr>\n",
       "      <th>176711</th>\n",
       "      <td>r6i34ir0lm</td>\n",
       "      <td>US</td>\n",
       "      <td>7qilwvqo</td>\n",
       "      <td>US</td>\n",
       "      <td>524ubv8opfqv</td>\n",
       "      <td>Bottoms - Womens</td>\n",
       "      <td>Urban Outfitters</td>\n",
       "      <td>USD</td>\n",
       "      <td>30.99</td>\n",
       "      <td>2020-08-09</td>\n",
       "      <td>1.178450</td>\n",
       "    </tr>\n",
       "    <tr>\n",
       "      <th>94180</th>\n",
       "      <td>7xkv54bpe9</td>\n",
       "      <td>GB</td>\n",
       "      <td>9s8wuks9</td>\n",
       "      <td>GB</td>\n",
       "      <td>1fr54bzx3mxz</td>\n",
       "      <td>Dresses</td>\n",
       "      <td>Jaded London</td>\n",
       "      <td>GBP</td>\n",
       "      <td>39.29</td>\n",
       "      <td>2020-08-05</td>\n",
       "      <td>0.904500</td>\n",
       "    </tr>\n",
       "    <tr>\n",
       "      <th>23367</th>\n",
       "      <td>1ioaeds7j3</td>\n",
       "      <td>GB</td>\n",
       "      <td>hbtm3tdy</td>\n",
       "      <td>GB</td>\n",
       "      <td>hwyyu6unkcw2</td>\n",
       "      <td>Dresses</td>\n",
       "      <td>NaN</td>\n",
       "      <td>GBP</td>\n",
       "      <td>16.91</td>\n",
       "      <td>2020-08-09</td>\n",
       "      <td>0.902780</td>\n",
       "    </tr>\n",
       "  </tbody>\n",
       "</table>\n",
       "</div>"
      ],
      "text/plain": [
       "          buyer_id buyer_country seller_id seller_country  product_code  \\\n",
       "10525   tlfpxzxzkv            GB  uqcji71x             GB  sagqguttnstk   \n",
       "188210  iyc0tjslnk            US  jqpop5ko             US  tbruh9bxepg0   \n",
       "71840   ubnf88vwzq            GB  0m633beq             GB  tgd6t0dms9fw   \n",
       "160042  0ccah02y1z            GB  u1xzxcj1             GB  hpchpian0xar   \n",
       "43932   1xsw1e2b1a            GB  hbtm3tdy             GB  2ch1v4uuzidz   \n",
       "2056    tywn51pqst            GB  zus95fk0             GB  a0452u1lkm2s   \n",
       "222350  d4857dvvyt            US  j6ck5spg             US  eye48wqpngyu   \n",
       "176711  r6i34ir0lm            US  7qilwvqo             US  524ubv8opfqv   \n",
       "94180   7xkv54bpe9            GB  9s8wuks9             GB  1fr54bzx3mxz   \n",
       "23367   1ioaeds7j3            GB  hbtm3tdy             GB  hwyyu6unkcw2   \n",
       "\n",
       "                category             brand currency  price       date  \\\n",
       "10525               Tech               NaN      GBP  38.54 2020-08-03   \n",
       "188210              Home               NaN      USD  14.70 2020-08-08   \n",
       "71840          Jewellery               NaN      GBP   4.32 2020-08-04   \n",
       "160042  Bottoms - Womens               NaN      GBP  15.91 2020-08-08   \n",
       "43932      Tops - Womens               NaN      GBP  17.46 2020-08-07   \n",
       "2056                Kids               NaN      GBP  19.02 2020-08-03   \n",
       "222350             Other               NaN      USD  81.54 2020-08-07   \n",
       "176711  Bottoms - Womens  Urban Outfitters      USD  30.99 2020-08-09   \n",
       "94180            Dresses      Jaded London      GBP  39.29 2020-08-05   \n",
       "23367            Dresses               NaN      GBP  16.91 2020-08-09   \n",
       "\n",
       "            rate  \n",
       "10525   0.899350  \n",
       "188210  1.178700  \n",
       "71840   0.902815  \n",
       "160042  0.903200  \n",
       "43932   0.902860  \n",
       "2056    0.899350  \n",
       "222350  1.178785  \n",
       "176711  1.178450  \n",
       "94180   0.904500  \n",
       "23367   0.902780  "
      ]
     },
     "execution_count": 29,
     "metadata": {},
     "output_type": "execute_result"
    }
   ],
   "source": [
    "df_new.sample(10)"
   ]
  },
  {
   "cell_type": "code",
   "execution_count": 31,
   "id": "9e00dd6d",
   "metadata": {},
   "outputs": [
    {
     "data": {
      "text/html": [
       "<div>\n",
       "<style scoped>\n",
       "    .dataframe tbody tr th:only-of-type {\n",
       "        vertical-align: middle;\n",
       "    }\n",
       "\n",
       "    .dataframe tbody tr th {\n",
       "        vertical-align: top;\n",
       "    }\n",
       "\n",
       "    .dataframe thead th {\n",
       "        text-align: right;\n",
       "    }\n",
       "</style>\n",
       "<table border=\"1\" class=\"dataframe\">\n",
       "  <thead>\n",
       "    <tr style=\"text-align: right;\">\n",
       "      <th></th>\n",
       "      <th>buyer_id</th>\n",
       "      <th>buyer_country</th>\n",
       "      <th>seller_id</th>\n",
       "      <th>seller_country</th>\n",
       "      <th>product_code</th>\n",
       "      <th>category</th>\n",
       "      <th>brand</th>\n",
       "      <th>currency</th>\n",
       "      <th>price</th>\n",
       "      <th>date</th>\n",
       "      <th>rate</th>\n",
       "      <th>total</th>\n",
       "    </tr>\n",
       "  </thead>\n",
       "  <tbody>\n",
       "    <tr>\n",
       "      <th>0</th>\n",
       "      <td>qzpjsi9t0o</td>\n",
       "      <td>GB</td>\n",
       "      <td>6oufpaot</td>\n",
       "      <td>GB</td>\n",
       "      <td>ydecnydr6obf</td>\n",
       "      <td>Dresses</td>\n",
       "      <td>NaN</td>\n",
       "      <td>GBP</td>\n",
       "      <td>19.11</td>\n",
       "      <td>2020-08-03</td>\n",
       "      <td>0.89935</td>\n",
       "      <td>21.248680</td>\n",
       "    </tr>\n",
       "    <tr>\n",
       "      <th>1</th>\n",
       "      <td>rd209r8c7c</td>\n",
       "      <td>GB</td>\n",
       "      <td>9p2ansc9</td>\n",
       "      <td>GB</td>\n",
       "      <td>wpxxf59cq7pc</td>\n",
       "      <td>Outerwear - Mens</td>\n",
       "      <td>Adidas Originals</td>\n",
       "      <td>GBP</td>\n",
       "      <td>24.91</td>\n",
       "      <td>2020-08-03</td>\n",
       "      <td>0.89935</td>\n",
       "      <td>27.697782</td>\n",
       "    </tr>\n",
       "    <tr>\n",
       "      <th>2</th>\n",
       "      <td>pqbcrl8azx</td>\n",
       "      <td>GB</td>\n",
       "      <td>r9zmzem8</td>\n",
       "      <td>GB</td>\n",
       "      <td>ua9mmn86wsqy</td>\n",
       "      <td>Tops - Womens</td>\n",
       "      <td>NaN</td>\n",
       "      <td>GBP</td>\n",
       "      <td>19.31</td>\n",
       "      <td>2020-08-03</td>\n",
       "      <td>0.89935</td>\n",
       "      <td>21.471062</td>\n",
       "    </tr>\n",
       "    <tr>\n",
       "      <th>3</th>\n",
       "      <td>j5en1rwmxp</td>\n",
       "      <td>GB</td>\n",
       "      <td>3o2nz88r</td>\n",
       "      <td>GB</td>\n",
       "      <td>tduo2uy8iszl</td>\n",
       "      <td>Bottoms - Womens</td>\n",
       "      <td>Urban Outfitters</td>\n",
       "      <td>GBP</td>\n",
       "      <td>16.98</td>\n",
       "      <td>2020-08-03</td>\n",
       "      <td>0.89935</td>\n",
       "      <td>18.880302</td>\n",
       "    </tr>\n",
       "    <tr>\n",
       "      <th>4</th>\n",
       "      <td>kjdezxeh1l</td>\n",
       "      <td>GB</td>\n",
       "      <td>7g56ublf</td>\n",
       "      <td>GB</td>\n",
       "      <td>39o00tcu89zq</td>\n",
       "      <td>Other</td>\n",
       "      <td>NaN</td>\n",
       "      <td>GBP</td>\n",
       "      <td>2.85</td>\n",
       "      <td>2020-08-03</td>\n",
       "      <td>0.89935</td>\n",
       "      <td>3.168955</td>\n",
       "    </tr>\n",
       "  </tbody>\n",
       "</table>\n",
       "</div>"
      ],
      "text/plain": [
       "     buyer_id buyer_country seller_id seller_country  product_code  \\\n",
       "0  qzpjsi9t0o            GB  6oufpaot             GB  ydecnydr6obf   \n",
       "1  rd209r8c7c            GB  9p2ansc9             GB  wpxxf59cq7pc   \n",
       "2  pqbcrl8azx            GB  r9zmzem8             GB  ua9mmn86wsqy   \n",
       "3  j5en1rwmxp            GB  3o2nz88r             GB  tduo2uy8iszl   \n",
       "4  kjdezxeh1l            GB  7g56ublf             GB  39o00tcu89zq   \n",
       "\n",
       "           category             brand currency  price       date     rate  \\\n",
       "0           Dresses               NaN      GBP  19.11 2020-08-03  0.89935   \n",
       "1  Outerwear - Mens  Adidas Originals      GBP  24.91 2020-08-03  0.89935   \n",
       "2     Tops - Womens               NaN      GBP  19.31 2020-08-03  0.89935   \n",
       "3  Bottoms - Womens  Urban Outfitters      GBP  16.98 2020-08-03  0.89935   \n",
       "4             Other               NaN      GBP   2.85 2020-08-03  0.89935   \n",
       "\n",
       "       total  \n",
       "0  21.248680  \n",
       "1  27.697782  \n",
       "2  21.471062  \n",
       "3  18.880302  \n",
       "4   3.168955  "
      ]
     },
     "execution_count": 31,
     "metadata": {},
     "output_type": "execute_result"
    }
   ],
   "source": [
    "df_new['total']= df_new.price / df_new.rate\n",
    "df_new.head()"
   ]
  },
  {
   "cell_type": "code",
   "execution_count": 33,
   "id": "c6ee8099",
   "metadata": {},
   "outputs": [
    {
     "data": {
      "text/plain": [
       "6471511.0"
      ]
     },
     "execution_count": 33,
     "metadata": {},
     "output_type": "execute_result"
    }
   ],
   "source": [
    "df_new['total'].sum().round()"
   ]
  },
  {
   "cell_type": "markdown",
   "id": "ad725631",
   "metadata": {},
   "source": [
    "# 5.Which brand has the highest number of purchases during the period?(Write down brand as in dataset, answer is case sensitive) "
   ]
  },
  {
   "cell_type": "code",
   "execution_count": 34,
   "id": "12639044",
   "metadata": {},
   "outputs": [
    {
     "data": {
      "text/plain": [
       "Nike                  9575\n",
       "Brandy Melville       5065\n",
       "Topshop               4561\n",
       "PrettyLittle Thing    4136\n",
       "Adidas                3905\n",
       "                      ... \n",
       "Preen                    1\n",
       "Wacoal                   1\n",
       "Shu Uemura               1\n",
       "Parker                   1\n",
       "Vita Fede                1\n",
       "Name: brand, Length: 1134, dtype: int64"
      ]
     },
     "execution_count": 34,
     "metadata": {},
     "output_type": "execute_result"
    }
   ],
   "source": [
    "dfs.brand.value_counts()"
   ]
  },
  {
   "cell_type": "code",
   "execution_count": 35,
   "id": "1767e733",
   "metadata": {},
   "outputs": [
    {
     "data": {
      "text/plain": [
       "nike                  9575\n",
       "brandy melville       5085\n",
       "topshop               4561\n",
       "prettylittle thing    4136\n",
       "adidas                3905\n",
       "                      ... \n",
       "preen                    1\n",
       "wacoal                   1\n",
       "shu uemura               1\n",
       "parker                   1\n",
       "vita fede                1\n",
       "Name: brand, Length: 1132, dtype: int64"
      ]
     },
     "execution_count": 35,
     "metadata": {},
     "output_type": "execute_result"
    }
   ],
   "source": [
    "dfs.brand.str.lower().value_counts()"
   ]
  },
  {
   "cell_type": "code",
   "execution_count": 37,
   "id": "65601bf3",
   "metadata": {},
   "outputs": [
    {
     "data": {
      "text/plain": [
       "385022.0"
      ]
     },
     "execution_count": 37,
     "metadata": {},
     "output_type": "execute_result"
    }
   ],
   "source": [
    "df_new[df_new['brand']== 'Nike']['total'].sum().round()"
   ]
  },
  {
   "cell_type": "code",
   "execution_count": 38,
   "id": "a8595212",
   "metadata": {},
   "outputs": [
    {
     "data": {
      "text/plain": [
       "brand\n",
       "Nike                  385022.414067\n",
       "Adidas                114211.542782\n",
       "American Vintage       89939.908652\n",
       "Brandy Melville        87735.664806\n",
       "Dr. Martens            81491.623673\n",
       "                          ...      \n",
       "butter LONDON              5.457968\n",
       "Ann Demeulemeester         5.262487\n",
       "Popular Sports             4.452175\n",
       "360 Cashmere               2.852719\n",
       "36572                      0.950199\n",
       "Name: total, Length: 1134, dtype: float64"
      ]
     },
     "execution_count": 38,
     "metadata": {},
     "output_type": "execute_result"
    }
   ],
   "source": [
    "df_new.groupby('brand').total.sum().sort_values(ascending= False)"
   ]
  },
  {
   "cell_type": "code",
   "execution_count": null,
   "id": "aefbba23",
   "metadata": {},
   "outputs": [],
   "source": [
    "#6. How many items in the “Jewelry” category have no brand associated with them?(Just write numbers) "
   ]
  },
  {
   "cell_type": "code",
   "execution_count": 41,
   "id": "3b6be14a",
   "metadata": {},
   "outputs": [
    {
     "data": {
      "text/plain": [
       "118341"
      ]
     },
     "execution_count": 41,
     "metadata": {},
     "output_type": "execute_result"
    }
   ],
   "source": [
    "dfs['brand'].isnull().sum()"
   ]
  },
  {
   "cell_type": "code",
   "execution_count": 40,
   "id": "abbb4104",
   "metadata": {},
   "outputs": [
    {
     "data": {
      "text/plain": [
       "array(['Dresses', 'Outerwear', 'Tops - Mens', 'Bottoms - Womens',\n",
       "       'Tops - Womens', 'Outerwear - Mens', 'Accessories', 'Jewellery',\n",
       "       'Other', 'Film', 'Art', 'Music', 'Shoes', 'Lingerie',\n",
       "       'Bottoms - Mens', 'Home', 'Tech', 'Beauty', 'Sports equipment',\n",
       "       'Kids', 'Transportation', 'Books & magazines', 'Underwear',\n",
       "       'UNSPECIFIED', nan], dtype=object)"
      ]
     },
     "execution_count": 40,
     "metadata": {},
     "output_type": "execute_result"
    }
   ],
   "source": [
    "dfs['category'].unique()"
   ]
  },
  {
   "cell_type": "code",
   "execution_count": 42,
   "id": "5159457b",
   "metadata": {},
   "outputs": [
    {
     "data": {
      "text/plain": [
       "array([nan, 'Adidas Originals', 'Berghaus', ..., 'Top Stitch',\n",
       "       'Kimora Lee Simmons', 'Vita Fede'], dtype=object)"
      ]
     },
     "execution_count": 42,
     "metadata": {},
     "output_type": "execute_result"
    }
   ],
   "source": [
    "dfs['brand'].unique()"
   ]
  },
  {
   "cell_type": "code",
   "execution_count": 43,
   "id": "2a9a5180",
   "metadata": {},
   "outputs": [
    {
     "data": {
      "text/plain": [
       "14923"
      ]
     },
     "execution_count": 43,
     "metadata": {},
     "output_type": "execute_result"
    }
   ],
   "source": [
    "(dfs['category']== \"Jewellery\").sum()"
   ]
  },
  {
   "cell_type": "code",
   "execution_count": 45,
   "id": "959ef70e",
   "metadata": {},
   "outputs": [
    {
     "data": {
      "text/html": [
       "<div>\n",
       "<style scoped>\n",
       "    .dataframe tbody tr th:only-of-type {\n",
       "        vertical-align: middle;\n",
       "    }\n",
       "\n",
       "    .dataframe tbody tr th {\n",
       "        vertical-align: top;\n",
       "    }\n",
       "\n",
       "    .dataframe thead th {\n",
       "        text-align: right;\n",
       "    }\n",
       "</style>\n",
       "<table border=\"1\" class=\"dataframe\">\n",
       "  <thead>\n",
       "    <tr style=\"text-align: right;\">\n",
       "      <th></th>\n",
       "      <th>buyer_id</th>\n",
       "      <th>buyer_country</th>\n",
       "      <th>seller_id</th>\n",
       "      <th>seller_country</th>\n",
       "      <th>product_code</th>\n",
       "      <th>category</th>\n",
       "      <th>brand</th>\n",
       "      <th>currency</th>\n",
       "      <th>price</th>\n",
       "      <th>date</th>\n",
       "    </tr>\n",
       "  </thead>\n",
       "  <tbody>\n",
       "    <tr>\n",
       "      <th>23</th>\n",
       "      <td>94lh9gu3bu</td>\n",
       "      <td>US</td>\n",
       "      <td>dhsa2q6o</td>\n",
       "      <td>US</td>\n",
       "      <td>1m846u2l2dyl</td>\n",
       "      <td>Jewellery</td>\n",
       "      <td>NaN</td>\n",
       "      <td>USD</td>\n",
       "      <td>16.29</td>\n",
       "      <td>2020-08-03</td>\n",
       "    </tr>\n",
       "    <tr>\n",
       "      <th>48</th>\n",
       "      <td>u8da411658</td>\n",
       "      <td>AU</td>\n",
       "      <td>qn7p4cv2</td>\n",
       "      <td>AU</td>\n",
       "      <td>dd4d4p2h4us2</td>\n",
       "      <td>Jewellery</td>\n",
       "      <td>NaN</td>\n",
       "      <td>AUD</td>\n",
       "      <td>12.52</td>\n",
       "      <td>2020-08-07</td>\n",
       "    </tr>\n",
       "    <tr>\n",
       "      <th>49</th>\n",
       "      <td>9exo58j839</td>\n",
       "      <td>AU</td>\n",
       "      <td>qn7p4cv2</td>\n",
       "      <td>AU</td>\n",
       "      <td>6nogqtmgfjsn</td>\n",
       "      <td>Jewellery</td>\n",
       "      <td>NaN</td>\n",
       "      <td>AUD</td>\n",
       "      <td>8.48</td>\n",
       "      <td>2020-08-09</td>\n",
       "    </tr>\n",
       "    <tr>\n",
       "      <th>50</th>\n",
       "      <td>9exo58j839</td>\n",
       "      <td>AU</td>\n",
       "      <td>qn7p4cv2</td>\n",
       "      <td>AU</td>\n",
       "      <td>w5ixs8y20z3n</td>\n",
       "      <td>Jewellery</td>\n",
       "      <td>NaN</td>\n",
       "      <td>AUD</td>\n",
       "      <td>5.58</td>\n",
       "      <td>2020-08-09</td>\n",
       "    </tr>\n",
       "    <tr>\n",
       "      <th>51</th>\n",
       "      <td>9exo58j839</td>\n",
       "      <td>AU</td>\n",
       "      <td>qn7p4cv2</td>\n",
       "      <td>AU</td>\n",
       "      <td>g5usn39z8b7u</td>\n",
       "      <td>Jewellery</td>\n",
       "      <td>NaN</td>\n",
       "      <td>AUD</td>\n",
       "      <td>5.37</td>\n",
       "      <td>2020-08-09</td>\n",
       "    </tr>\n",
       "    <tr>\n",
       "      <th>...</th>\n",
       "      <td>...</td>\n",
       "      <td>...</td>\n",
       "      <td>...</td>\n",
       "      <td>...</td>\n",
       "      <td>...</td>\n",
       "      <td>...</td>\n",
       "      <td>...</td>\n",
       "      <td>...</td>\n",
       "      <td>...</td>\n",
       "      <td>...</td>\n",
       "    </tr>\n",
       "    <tr>\n",
       "      <th>237545</th>\n",
       "      <td>rabu7nz8gn</td>\n",
       "      <td>US</td>\n",
       "      <td>rv5nmiwq</td>\n",
       "      <td>US</td>\n",
       "      <td>ikfosml5pjas</td>\n",
       "      <td>Jewellery</td>\n",
       "      <td>NaN</td>\n",
       "      <td>USD</td>\n",
       "      <td>21.19</td>\n",
       "      <td>2020-08-05</td>\n",
       "    </tr>\n",
       "    <tr>\n",
       "      <th>237568</th>\n",
       "      <td>ytjobx2wzg</td>\n",
       "      <td>GB</td>\n",
       "      <td>qib5sh0l</td>\n",
       "      <td>GB</td>\n",
       "      <td>tn00dvezdp43</td>\n",
       "      <td>Jewellery</td>\n",
       "      <td>NaN</td>\n",
       "      <td>GBP</td>\n",
       "      <td>1.15</td>\n",
       "      <td>2020-08-05</td>\n",
       "    </tr>\n",
       "    <tr>\n",
       "      <th>237569</th>\n",
       "      <td>ytjobx2wzg</td>\n",
       "      <td>GB</td>\n",
       "      <td>qib5sh0l</td>\n",
       "      <td>GB</td>\n",
       "      <td>eykndnmcb4g6</td>\n",
       "      <td>Jewellery</td>\n",
       "      <td>NaN</td>\n",
       "      <td>GBP</td>\n",
       "      <td>1.15</td>\n",
       "      <td>2020-08-05</td>\n",
       "    </tr>\n",
       "    <tr>\n",
       "      <th>237616</th>\n",
       "      <td>p0jol2ieus</td>\n",
       "      <td>US</td>\n",
       "      <td>4pi8qok2</td>\n",
       "      <td>US</td>\n",
       "      <td>0ipj5zmes1cu</td>\n",
       "      <td>Jewellery</td>\n",
       "      <td>NaN</td>\n",
       "      <td>USD</td>\n",
       "      <td>18.67</td>\n",
       "      <td>2020-08-08</td>\n",
       "    </tr>\n",
       "    <tr>\n",
       "      <th>237643</th>\n",
       "      <td>q86525x69t</td>\n",
       "      <td>GB</td>\n",
       "      <td>33hffrhq</td>\n",
       "      <td>GB</td>\n",
       "      <td>426jwzj6b2uz</td>\n",
       "      <td>Jewellery</td>\n",
       "      <td>NaN</td>\n",
       "      <td>GBP</td>\n",
       "      <td>5.30</td>\n",
       "      <td>2020-08-05</td>\n",
       "    </tr>\n",
       "  </tbody>\n",
       "</table>\n",
       "<p>13525 rows × 10 columns</p>\n",
       "</div>"
      ],
      "text/plain": [
       "          buyer_id buyer_country seller_id seller_country  product_code  \\\n",
       "23      94lh9gu3bu            US  dhsa2q6o             US  1m846u2l2dyl   \n",
       "48      u8da411658            AU  qn7p4cv2             AU  dd4d4p2h4us2   \n",
       "49      9exo58j839            AU  qn7p4cv2             AU  6nogqtmgfjsn   \n",
       "50      9exo58j839            AU  qn7p4cv2             AU  w5ixs8y20z3n   \n",
       "51      9exo58j839            AU  qn7p4cv2             AU  g5usn39z8b7u   \n",
       "...            ...           ...       ...            ...           ...   \n",
       "237545  rabu7nz8gn            US  rv5nmiwq             US  ikfosml5pjas   \n",
       "237568  ytjobx2wzg            GB  qib5sh0l             GB  tn00dvezdp43   \n",
       "237569  ytjobx2wzg            GB  qib5sh0l             GB  eykndnmcb4g6   \n",
       "237616  p0jol2ieus            US  4pi8qok2             US  0ipj5zmes1cu   \n",
       "237643  q86525x69t            GB  33hffrhq             GB  426jwzj6b2uz   \n",
       "\n",
       "         category brand currency  price       date  \n",
       "23      Jewellery   NaN      USD  16.29 2020-08-03  \n",
       "48      Jewellery   NaN      AUD  12.52 2020-08-07  \n",
       "49      Jewellery   NaN      AUD   8.48 2020-08-09  \n",
       "50      Jewellery   NaN      AUD   5.58 2020-08-09  \n",
       "51      Jewellery   NaN      AUD   5.37 2020-08-09  \n",
       "...           ...   ...      ...    ...        ...  \n",
       "237545  Jewellery   NaN      USD  21.19 2020-08-05  \n",
       "237568  Jewellery   NaN      GBP   1.15 2020-08-05  \n",
       "237569  Jewellery   NaN      GBP   1.15 2020-08-05  \n",
       "237616  Jewellery   NaN      USD  18.67 2020-08-08  \n",
       "237643  Jewellery   NaN      GBP   5.30 2020-08-05  \n",
       "\n",
       "[13525 rows x 10 columns]"
      ]
     },
     "execution_count": 45,
     "metadata": {},
     "output_type": "execute_result"
    }
   ],
   "source": [
    "dfs[(dfs['category']== \"Jewellery\") & dfs['brand'].isnull()]"
   ]
  },
  {
   "cell_type": "code",
   "execution_count": 46,
   "id": "a59fb825",
   "metadata": {},
   "outputs": [
    {
     "data": {
      "text/plain": [
       "product_code    10931\n",
       "dtype: int64"
      ]
     },
     "execution_count": 46,
     "metadata": {},
     "output_type": "execute_result"
    }
   ],
   "source": [
    "dfs[(dfs['category']== \"Jewellery\") & dfs['brand'].isnull()][['product_code']].nunique()"
   ]
  },
  {
   "cell_type": "code",
   "execution_count": null,
   "id": "ed229546",
   "metadata": {},
   "outputs": [],
   "source": [
    "# 7.How many brands have between 35 and 55 transactions (inclusive)?(Just write numbers)"
   ]
  },
  {
   "cell_type": "code",
   "execution_count": 50,
   "id": "9842e685",
   "metadata": {},
   "outputs": [
    {
     "data": {
      "text/plain": [
       "Nike                  9575\n",
       "Brandy Melville       5065\n",
       "Topshop               4561\n",
       "PrettyLittle Thing    4136\n",
       "Adidas                3905\n",
       "                      ... \n",
       "Preen                    1\n",
       "Wacoal                   1\n",
       "Shu Uemura               1\n",
       "Parker                   1\n",
       "Vita Fede                1\n",
       "Name: brand, Length: 1134, dtype: int64"
      ]
     },
     "execution_count": 50,
     "metadata": {},
     "output_type": "execute_result"
    }
   ],
   "source": [
    "dfs['brand'].value_counts()"
   ]
  },
  {
   "cell_type": "code",
   "execution_count": 128,
   "id": "c531c86f",
   "metadata": {},
   "outputs": [
    {
     "data": {
      "text/plain": [
       "118341"
      ]
     },
     "execution_count": 128,
     "metadata": {},
     "output_type": "execute_result"
    }
   ],
   "source": [
    "df['brand'].isnull().sum()"
   ]
  },
  {
   "cell_type": "code",
   "execution_count": 123,
   "id": "720f9662",
   "metadata": {},
   "outputs": [
    {
     "data": {
      "text/plain": [
       "Nike                  False\n",
       "Brandy Melville       False\n",
       "Topshop               False\n",
       "PrettyLittle Thing    False\n",
       "Adidas                False\n",
       "                      ...  \n",
       "Preen                  True\n",
       "Wacoal                 True\n",
       "Shu Uemura             True\n",
       "Parker                 True\n",
       "Vita Fede              True\n",
       "Name: brand, Length: 1134, dtype: bool"
      ]
     },
     "execution_count": 123,
     "metadata": {},
     "output_type": "execute_result"
    }
   ],
   "source": [
    "(df['brand'].value_counts()<=55)"
   ]
  },
  {
   "cell_type": "code",
   "execution_count": 52,
   "id": "e80604b1",
   "metadata": {},
   "outputs": [
    {
     "data": {
      "text/plain": [
       "81"
      ]
     },
     "execution_count": 52,
     "metadata": {},
     "output_type": "execute_result"
    }
   ],
   "source": [
    "((df['brand'].value_counts()>=35) & (df['brand'].value_counts()<=55)).sum()"
   ]
  },
  {
   "cell_type": "code",
   "execution_count": 65,
   "id": "1a019745",
   "metadata": {},
   "outputs": [
    {
     "data": {
      "text/plain": [
       "895"
      ]
     },
     "execution_count": 65,
     "metadata": {},
     "output_type": "execute_result"
    }
   ],
   "source": [
    "(df['brand'].value_counts()<=55).sum()"
   ]
  },
  {
   "cell_type": "code",
   "execution_count": 67,
   "id": "55d19008",
   "metadata": {},
   "outputs": [
    {
     "data": {
      "text/plain": [
       "814"
      ]
     },
     "execution_count": 67,
     "metadata": {},
     "output_type": "execute_result"
    }
   ],
   "source": [
    "(df['brand'].value_counts()<35).sum()"
   ]
  },
  {
   "cell_type": "code",
   "execution_count": 53,
   "id": "7f416d65",
   "metadata": {},
   "outputs": [
    {
     "data": {
      "text/plain": [
       "81"
      ]
     },
     "execution_count": 53,
     "metadata": {},
     "output_type": "execute_result"
    }
   ],
   "source": [
    "(df['brand'].value_counts()<=55).sum() - (df['brand'].value_counts()<35).sum()"
   ]
  },
  {
   "cell_type": "code",
   "execution_count": 55,
   "id": "75bb94f3",
   "metadata": {},
   "outputs": [
    {
     "data": {
      "text/plain": [
       "81"
      ]
     },
     "execution_count": 55,
     "metadata": {},
     "output_type": "execute_result"
    }
   ],
   "source": [
    "(dfs.groupby('brand')['brand'].count().apply(lambda x: 34< x <56)).sum()\n"
   ]
  },
  {
   "cell_type": "markdown",
   "id": "d930b344",
   "metadata": {},
   "source": [
    "# 8. How many pairs of shoes were purchased by Australian (AU) buyers?(Just write numbers)"
   ]
  },
  {
   "cell_type": "code",
   "execution_count": 56,
   "id": "a6af5d15",
   "metadata": {},
   "outputs": [
    {
     "data": {
      "text/plain": [
       "GB     134704\n",
       "US      82661\n",
       "AU       7868\n",
       "IE       4046\n",
       "RoW      2880\n",
       "IT       2532\n",
       "CA       2247\n",
       "DE        466\n",
       "FR        267\n",
       "Name: buyer_country, dtype: int64"
      ]
     },
     "execution_count": 56,
     "metadata": {},
     "output_type": "execute_result"
    }
   ],
   "source": [
    "df['buyer_country'].value_counts()"
   ]
  },
  {
   "cell_type": "code",
   "execution_count": 57,
   "id": "3877e3b3",
   "metadata": {},
   "outputs": [
    {
     "data": {
      "text/html": [
       "<div>\n",
       "<style scoped>\n",
       "    .dataframe tbody tr th:only-of-type {\n",
       "        vertical-align: middle;\n",
       "    }\n",
       "\n",
       "    .dataframe tbody tr th {\n",
       "        vertical-align: top;\n",
       "    }\n",
       "\n",
       "    .dataframe thead th {\n",
       "        text-align: right;\n",
       "    }\n",
       "</style>\n",
       "<table border=\"1\" class=\"dataframe\">\n",
       "  <thead>\n",
       "    <tr style=\"text-align: right;\">\n",
       "      <th></th>\n",
       "      <th>buyer_id</th>\n",
       "      <th>buyer_country</th>\n",
       "      <th>seller_id</th>\n",
       "      <th>seller_country</th>\n",
       "      <th>product_code</th>\n",
       "      <th>category</th>\n",
       "      <th>brand</th>\n",
       "      <th>currency</th>\n",
       "      <th>price</th>\n",
       "      <th>date</th>\n",
       "    </tr>\n",
       "  </thead>\n",
       "  <tbody>\n",
       "    <tr>\n",
       "      <th>139</th>\n",
       "      <td>ex9bpqq8w6</td>\n",
       "      <td>AU</td>\n",
       "      <td>j3pkou10</td>\n",
       "      <td>US</td>\n",
       "      <td>2tzszjhssh03</td>\n",
       "      <td>Shoes</td>\n",
       "      <td>Skechers</td>\n",
       "      <td>USD</td>\n",
       "      <td>52.24</td>\n",
       "      <td>2020-08-08</td>\n",
       "    </tr>\n",
       "    <tr>\n",
       "      <th>539</th>\n",
       "      <td>uru4etz7e5</td>\n",
       "      <td>AU</td>\n",
       "      <td>1i84ez1k</td>\n",
       "      <td>AU</td>\n",
       "      <td>zzu9hpjsjx6o</td>\n",
       "      <td>Shoes</td>\n",
       "      <td>NaN</td>\n",
       "      <td>AUD</td>\n",
       "      <td>73.73</td>\n",
       "      <td>2020-08-09</td>\n",
       "    </tr>\n",
       "    <tr>\n",
       "      <th>5639</th>\n",
       "      <td>9fn32ae6a9</td>\n",
       "      <td>AU</td>\n",
       "      <td>arloo1le</td>\n",
       "      <td>GB</td>\n",
       "      <td>a2gdza98bia7</td>\n",
       "      <td>Shoes</td>\n",
       "      <td>Nike</td>\n",
       "      <td>GBP</td>\n",
       "      <td>75.27</td>\n",
       "      <td>2020-08-09</td>\n",
       "    </tr>\n",
       "    <tr>\n",
       "      <th>7117</th>\n",
       "      <td>40jm2mgsri</td>\n",
       "      <td>AU</td>\n",
       "      <td>toud3ymd</td>\n",
       "      <td>AU</td>\n",
       "      <td>so29y8tl6rvs</td>\n",
       "      <td>Shoes</td>\n",
       "      <td>Nike</td>\n",
       "      <td>AUD</td>\n",
       "      <td>55.03</td>\n",
       "      <td>2020-08-09</td>\n",
       "    </tr>\n",
       "    <tr>\n",
       "      <th>7118</th>\n",
       "      <td>ncxx01xn4j</td>\n",
       "      <td>AU</td>\n",
       "      <td>toud3ymd</td>\n",
       "      <td>AU</td>\n",
       "      <td>utn7clcp7j3n</td>\n",
       "      <td>Shoes</td>\n",
       "      <td>NaN</td>\n",
       "      <td>AUD</td>\n",
       "      <td>211.76</td>\n",
       "      <td>2020-08-03</td>\n",
       "    </tr>\n",
       "    <tr>\n",
       "      <th>...</th>\n",
       "      <td>...</td>\n",
       "      <td>...</td>\n",
       "      <td>...</td>\n",
       "      <td>...</td>\n",
       "      <td>...</td>\n",
       "      <td>...</td>\n",
       "      <td>...</td>\n",
       "      <td>...</td>\n",
       "      <td>...</td>\n",
       "      <td>...</td>\n",
       "    </tr>\n",
       "    <tr>\n",
       "      <th>236930</th>\n",
       "      <td>azmnowovd7</td>\n",
       "      <td>AU</td>\n",
       "      <td>xgse9ed3</td>\n",
       "      <td>AU</td>\n",
       "      <td>1xzq0f7a31bi</td>\n",
       "      <td>Shoes</td>\n",
       "      <td>NaN</td>\n",
       "      <td>AUD</td>\n",
       "      <td>85.48</td>\n",
       "      <td>2020-08-05</td>\n",
       "    </tr>\n",
       "    <tr>\n",
       "      <th>237075</th>\n",
       "      <td>i0loqi83nv</td>\n",
       "      <td>AU</td>\n",
       "      <td>f8ts15sr</td>\n",
       "      <td>AU</td>\n",
       "      <td>zvrlgzyse7j6</td>\n",
       "      <td>Shoes</td>\n",
       "      <td>NaN</td>\n",
       "      <td>AUD</td>\n",
       "      <td>34.01</td>\n",
       "      <td>2020-08-05</td>\n",
       "    </tr>\n",
       "    <tr>\n",
       "      <th>237495</th>\n",
       "      <td>86aw49gm0m</td>\n",
       "      <td>AU</td>\n",
       "      <td>seb5z7bo</td>\n",
       "      <td>AU</td>\n",
       "      <td>xeebt9i4gyo3</td>\n",
       "      <td>Shoes</td>\n",
       "      <td>NaN</td>\n",
       "      <td>AUD</td>\n",
       "      <td>85.69</td>\n",
       "      <td>2020-08-05</td>\n",
       "    </tr>\n",
       "    <tr>\n",
       "      <th>237497</th>\n",
       "      <td>pcd2mdsr3n</td>\n",
       "      <td>AU</td>\n",
       "      <td>agzes91a</td>\n",
       "      <td>AU</td>\n",
       "      <td>bvqweclvm8tx</td>\n",
       "      <td>Shoes</td>\n",
       "      <td>NaN</td>\n",
       "      <td>AUD</td>\n",
       "      <td>95.27</td>\n",
       "      <td>2020-08-06</td>\n",
       "    </tr>\n",
       "    <tr>\n",
       "      <th>237575</th>\n",
       "      <td>0s9ms8inq0</td>\n",
       "      <td>AU</td>\n",
       "      <td>zkon4br2</td>\n",
       "      <td>AU</td>\n",
       "      <td>srw1zpebx9zo</td>\n",
       "      <td>Shoes</td>\n",
       "      <td>Nike</td>\n",
       "      <td>AUD</td>\n",
       "      <td>180.12</td>\n",
       "      <td>2020-08-05</td>\n",
       "    </tr>\n",
       "  </tbody>\n",
       "</table>\n",
       "<p>658 rows × 10 columns</p>\n",
       "</div>"
      ],
      "text/plain": [
       "          buyer_id buyer_country seller_id seller_country  product_code  \\\n",
       "139     ex9bpqq8w6            AU  j3pkou10             US  2tzszjhssh03   \n",
       "539     uru4etz7e5            AU  1i84ez1k             AU  zzu9hpjsjx6o   \n",
       "5639    9fn32ae6a9            AU  arloo1le             GB  a2gdza98bia7   \n",
       "7117    40jm2mgsri            AU  toud3ymd             AU  so29y8tl6rvs   \n",
       "7118    ncxx01xn4j            AU  toud3ymd             AU  utn7clcp7j3n   \n",
       "...            ...           ...       ...            ...           ...   \n",
       "236930  azmnowovd7            AU  xgse9ed3             AU  1xzq0f7a31bi   \n",
       "237075  i0loqi83nv            AU  f8ts15sr             AU  zvrlgzyse7j6   \n",
       "237495  86aw49gm0m            AU  seb5z7bo             AU  xeebt9i4gyo3   \n",
       "237497  pcd2mdsr3n            AU  agzes91a             AU  bvqweclvm8tx   \n",
       "237575  0s9ms8inq0            AU  zkon4br2             AU  srw1zpebx9zo   \n",
       "\n",
       "       category     brand currency   price        date  \n",
       "139       Shoes  Skechers      USD   52.24  2020-08-08  \n",
       "539       Shoes       NaN      AUD   73.73  2020-08-09  \n",
       "5639      Shoes      Nike      GBP   75.27  2020-08-09  \n",
       "7117      Shoes      Nike      AUD   55.03  2020-08-09  \n",
       "7118      Shoes       NaN      AUD  211.76  2020-08-03  \n",
       "...         ...       ...      ...     ...         ...  \n",
       "236930    Shoes       NaN      AUD   85.48  2020-08-05  \n",
       "237075    Shoes       NaN      AUD   34.01  2020-08-05  \n",
       "237495    Shoes       NaN      AUD   85.69  2020-08-05  \n",
       "237497    Shoes       NaN      AUD   95.27  2020-08-06  \n",
       "237575    Shoes      Nike      AUD  180.12  2020-08-05  \n",
       "\n",
       "[658 rows x 10 columns]"
      ]
     },
     "execution_count": 57,
     "metadata": {},
     "output_type": "execute_result"
    }
   ],
   "source": [
    "df[(df['buyer_country']== 'AU') & (df['category']== 'Shoes')]"
   ]
  },
  {
   "cell_type": "code",
   "execution_count": 58,
   "id": "ea482d50",
   "metadata": {},
   "outputs": [
    {
     "data": {
      "text/plain": [
       "buyer_id          658\n",
       "buyer_country     658\n",
       "seller_id         658\n",
       "seller_country    658\n",
       "product_code      658\n",
       "category          658\n",
       "brand              81\n",
       "currency          658\n",
       "price             658\n",
       "date              658\n",
       "dtype: int64"
      ]
     },
     "execution_count": 58,
     "metadata": {},
     "output_type": "execute_result"
    }
   ],
   "source": [
    "df[(df['buyer_country']== 'AU') & (df['category']== 'Shoes')].count()"
   ]
  },
  {
   "cell_type": "code",
   "execution_count": 68,
   "id": "5db54f0a",
   "metadata": {},
   "outputs": [
    {
     "data": {
      "text/plain": [
       "array(['Dresses', 'Outerwear', 'Tops - Mens', 'Bottoms - Womens',\n",
       "       'Tops - Womens', 'Outerwear - Mens', 'Accessories', 'Jewellery',\n",
       "       'Other', 'Film', 'Art', 'Music', 'Shoes', 'Lingerie',\n",
       "       'Bottoms - Mens', 'Home', 'Tech', 'Beauty', 'Sports equipment',\n",
       "       'Kids', 'Transportation', 'Books & magazines', 'Underwear',\n",
       "       'UNSPECIFIED', nan], dtype=object)"
      ]
     },
     "execution_count": 68,
     "metadata": {},
     "output_type": "execute_result"
    }
   ],
   "source": [
    "df['category'].unique()"
   ]
  },
  {
   "cell_type": "markdown",
   "id": "2f44cf0f",
   "metadata": {},
   "source": [
    "# 9. Which brand has the highest average transaction value? (Just write brand name)"
   ]
  },
  {
   "cell_type": "code",
   "execution_count": 60,
   "id": "12204e4a",
   "metadata": {},
   "outputs": [
    {
     "data": {
      "text/plain": [
       "brand\n",
       "Goyard            338.926936\n",
       "Loewe             334.530369\n",
       "Craig Green       266.792684\n",
       "TAG Heuer         224.586782\n",
       "Emilio Pucci      214.758636\n",
       "                     ...    \n",
       "Popular Sports      4.452175\n",
       "Max Factor          4.329298\n",
       "Bronica             3.329066\n",
       "360 Cashmere        0.950906\n",
       "36572               0.950199\n",
       "Name: total, Length: 1134, dtype: float64"
      ]
     },
     "execution_count": 60,
     "metadata": {},
     "output_type": "execute_result"
    }
   ],
   "source": [
    "df_new.groupby('brand')['total'].mean().sort_values(ascending= False)"
   ]
  },
  {
   "cell_type": "code",
   "execution_count": 59,
   "id": "2b81b85a",
   "metadata": {},
   "outputs": [
    {
     "data": {
      "text/plain": [
       "338.92693604836"
      ]
     },
     "execution_count": 59,
     "metadata": {},
     "output_type": "execute_result"
    }
   ],
   "source": [
    "df_new[df_new['brand']== 'Goyard']['total'].mean()"
   ]
  },
  {
   "cell_type": "markdown",
   "id": "aa451c7b",
   "metadata": {},
   "source": [
    "# 10. What is the total value of items purchased by GB buyers from GB sellers? (Just write numbers)"
   ]
  },
  {
   "cell_type": "code",
   "execution_count": 61,
   "id": "acdf422d",
   "metadata": {},
   "outputs": [
    {
     "data": {
      "text/plain": [
       "3526745.033129233"
      ]
     },
     "execution_count": 61,
     "metadata": {},
     "output_type": "execute_result"
    }
   ],
   "source": [
    "df_new[(df_new['buyer_country']== 'GB') & (df_new['seller_country']== 'GB')]['total'].sum()"
   ]
  },
  {
   "cell_type": "markdown",
   "id": "57275111",
   "metadata": {},
   "source": [
    "# 11. What percentage of US sellers' transactions were purchased by US buyers? (Just write percentage)"
   ]
  },
  {
   "cell_type": "code",
   "execution_count": 68,
   "id": "dd2bfc0f",
   "metadata": {},
   "outputs": [
    {
     "data": {
      "text/plain": [
       "2106695.5606899997"
      ]
     },
     "execution_count": 68,
     "metadata": {},
     "output_type": "execute_result"
    }
   ],
   "source": [
    "df_new[(df_new['seller_country']== 'US')].total.sum()"
   ]
  },
  {
   "cell_type": "code",
   "execution_count": 64,
   "id": "d8400fc3",
   "metadata": {},
   "outputs": [
    {
     "data": {
      "text/plain": [
       "2021779.311517296"
      ]
     },
     "execution_count": 64,
     "metadata": {},
     "output_type": "execute_result"
    }
   ],
   "source": [
    "df_new[(df_new['buyer_country']== 'US') & (df_new['seller_country']== 'US')].total.sum()"
   ]
  },
  {
   "cell_type": "code",
   "execution_count": 69,
   "id": "8483ce1a",
   "metadata": {},
   "outputs": [
    {
     "data": {
      "text/plain": [
       "95.96922067159569"
      ]
     },
     "execution_count": 69,
     "metadata": {},
     "output_type": "execute_result"
    }
   ],
   "source": [
    "(2021779.311517296/2106695.5606899997)*100"
   ]
  },
  {
   "cell_type": "code",
   "execution_count": null,
   "id": "3e1c30e7",
   "metadata": {},
   "outputs": [],
   "source": []
  }
 ],
 "metadata": {
  "kernelspec": {
   "display_name": "Python 3 (ipykernel)",
   "language": "python",
   "name": "python3"
  },
  "language_info": {
   "codemirror_mode": {
    "name": "ipython",
    "version": 3
   },
   "file_extension": ".py",
   "mimetype": "text/x-python",
   "name": "python",
   "nbconvert_exporter": "python",
   "pygments_lexer": "ipython3",
   "version": "3.9.7"
  }
 },
 "nbformat": 4,
 "nbformat_minor": 5
}
